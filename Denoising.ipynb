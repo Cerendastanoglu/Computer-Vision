{
  "nbformat": 4,
  "nbformat_minor": 0,
  "metadata": {
    "accelerator": "GPU",
    "colab": {
      "name": "Project_2_Ceren_Dastanoglu.ipynb",
      "provenance": [],
      "collapsed_sections": []
    },
    "kernelspec": {
      "display_name": "Python 3",
      "language": "python",
      "name": "python3"
    },
    "language_info": {
      "codemirror_mode": {
        "name": "ipython",
        "version": 3
      },
      "file_extension": ".py",
      "mimetype": "text/x-python",
      "name": "python",
      "nbconvert_exporter": "python",
      "pygments_lexer": "ipython3",
      "version": "3.8.5"
    },
    "widgets": {
      "application/vnd.jupyter.widget-state+json": {
        "91f140cd3ba54ab1817d1a6b8d8a43fd": {
          "model_module": "@jupyter-widgets/controls",
          "model_name": "HBoxModel",
          "state": {
            "_view_name": "HBoxView",
            "_dom_classes": [],
            "_model_name": "HBoxModel",
            "_view_module": "@jupyter-widgets/controls",
            "_model_module_version": "1.5.0",
            "_view_count": null,
            "_view_module_version": "1.5.0",
            "box_style": "",
            "layout": "IPY_MODEL_3bece3e8f63e4a2b827afd54b661e3a8",
            "_model_module": "@jupyter-widgets/controls",
            "children": [
              "IPY_MODEL_ae7c8b41a0a547289981caac4689aa8f",
              "IPY_MODEL_a041519356a34a94b96876b50dd0649a"
            ]
          }
        },
        "3bece3e8f63e4a2b827afd54b661e3a8": {
          "model_module": "@jupyter-widgets/base",
          "model_name": "LayoutModel",
          "state": {
            "_view_name": "LayoutView",
            "grid_template_rows": null,
            "right": null,
            "justify_content": null,
            "_view_module": "@jupyter-widgets/base",
            "overflow": null,
            "_model_module_version": "1.2.0",
            "_view_count": null,
            "flex_flow": null,
            "width": null,
            "min_width": null,
            "border": null,
            "align_items": null,
            "bottom": null,
            "_model_module": "@jupyter-widgets/base",
            "top": null,
            "grid_column": null,
            "overflow_y": null,
            "overflow_x": null,
            "grid_auto_flow": null,
            "grid_area": null,
            "grid_template_columns": null,
            "flex": null,
            "_model_name": "LayoutModel",
            "justify_items": null,
            "grid_row": null,
            "max_height": null,
            "align_content": null,
            "visibility": null,
            "align_self": null,
            "height": null,
            "min_height": null,
            "padding": null,
            "grid_auto_rows": null,
            "grid_gap": null,
            "max_width": null,
            "order": null,
            "_view_module_version": "1.2.0",
            "grid_template_areas": null,
            "object_position": null,
            "object_fit": null,
            "grid_auto_columns": null,
            "margin": null,
            "display": null,
            "left": null
          }
        },
        "ae7c8b41a0a547289981caac4689aa8f": {
          "model_module": "@jupyter-widgets/controls",
          "model_name": "FloatProgressModel",
          "state": {
            "_view_name": "ProgressView",
            "style": "IPY_MODEL_7bc8844c7de04b68ac90db0c66932b11",
            "_dom_classes": [],
            "description": "",
            "_model_name": "FloatProgressModel",
            "bar_style": "success",
            "max": 26421880,
            "_view_module": "@jupyter-widgets/controls",
            "_model_module_version": "1.5.0",
            "value": 26421880,
            "_view_count": null,
            "_view_module_version": "1.5.0",
            "orientation": "horizontal",
            "min": 0,
            "description_tooltip": null,
            "_model_module": "@jupyter-widgets/controls",
            "layout": "IPY_MODEL_c1bfcc2bb6af4dda99c18fb92b90e0e8"
          }
        },
        "a041519356a34a94b96876b50dd0649a": {
          "model_module": "@jupyter-widgets/controls",
          "model_name": "HTMLModel",
          "state": {
            "_view_name": "HTMLView",
            "style": "IPY_MODEL_995c168f080b4829a5c62c4394dd714e",
            "_dom_classes": [],
            "description": "",
            "_model_name": "HTMLModel",
            "placeholder": "​",
            "_view_module": "@jupyter-widgets/controls",
            "_model_module_version": "1.5.0",
            "value": " 26422272/? [00:07&lt;00:00, 3410092.81it/s]",
            "_view_count": null,
            "_view_module_version": "1.5.0",
            "description_tooltip": null,
            "_model_module": "@jupyter-widgets/controls",
            "layout": "IPY_MODEL_80eea4b886de49048f84cfcc28f7da49"
          }
        },
        "7bc8844c7de04b68ac90db0c66932b11": {
          "model_module": "@jupyter-widgets/controls",
          "model_name": "ProgressStyleModel",
          "state": {
            "_view_name": "StyleView",
            "_model_name": "ProgressStyleModel",
            "description_width": "initial",
            "_view_module": "@jupyter-widgets/base",
            "_model_module_version": "1.5.0",
            "_view_count": null,
            "_view_module_version": "1.2.0",
            "bar_color": null,
            "_model_module": "@jupyter-widgets/controls"
          }
        },
        "c1bfcc2bb6af4dda99c18fb92b90e0e8": {
          "model_module": "@jupyter-widgets/base",
          "model_name": "LayoutModel",
          "state": {
            "_view_name": "LayoutView",
            "grid_template_rows": null,
            "right": null,
            "justify_content": null,
            "_view_module": "@jupyter-widgets/base",
            "overflow": null,
            "_model_module_version": "1.2.0",
            "_view_count": null,
            "flex_flow": null,
            "width": null,
            "min_width": null,
            "border": null,
            "align_items": null,
            "bottom": null,
            "_model_module": "@jupyter-widgets/base",
            "top": null,
            "grid_column": null,
            "overflow_y": null,
            "overflow_x": null,
            "grid_auto_flow": null,
            "grid_area": null,
            "grid_template_columns": null,
            "flex": null,
            "_model_name": "LayoutModel",
            "justify_items": null,
            "grid_row": null,
            "max_height": null,
            "align_content": null,
            "visibility": null,
            "align_self": null,
            "height": null,
            "min_height": null,
            "padding": null,
            "grid_auto_rows": null,
            "grid_gap": null,
            "max_width": null,
            "order": null,
            "_view_module_version": "1.2.0",
            "grid_template_areas": null,
            "object_position": null,
            "object_fit": null,
            "grid_auto_columns": null,
            "margin": null,
            "display": null,
            "left": null
          }
        },
        "995c168f080b4829a5c62c4394dd714e": {
          "model_module": "@jupyter-widgets/controls",
          "model_name": "DescriptionStyleModel",
          "state": {
            "_view_name": "StyleView",
            "_model_name": "DescriptionStyleModel",
            "description_width": "",
            "_view_module": "@jupyter-widgets/base",
            "_model_module_version": "1.5.0",
            "_view_count": null,
            "_view_module_version": "1.2.0",
            "_model_module": "@jupyter-widgets/controls"
          }
        },
        "80eea4b886de49048f84cfcc28f7da49": {
          "model_module": "@jupyter-widgets/base",
          "model_name": "LayoutModel",
          "state": {
            "_view_name": "LayoutView",
            "grid_template_rows": null,
            "right": null,
            "justify_content": null,
            "_view_module": "@jupyter-widgets/base",
            "overflow": null,
            "_model_module_version": "1.2.0",
            "_view_count": null,
            "flex_flow": null,
            "width": null,
            "min_width": null,
            "border": null,
            "align_items": null,
            "bottom": null,
            "_model_module": "@jupyter-widgets/base",
            "top": null,
            "grid_column": null,
            "overflow_y": null,
            "overflow_x": null,
            "grid_auto_flow": null,
            "grid_area": null,
            "grid_template_columns": null,
            "flex": null,
            "_model_name": "LayoutModel",
            "justify_items": null,
            "grid_row": null,
            "max_height": null,
            "align_content": null,
            "visibility": null,
            "align_self": null,
            "height": null,
            "min_height": null,
            "padding": null,
            "grid_auto_rows": null,
            "grid_gap": null,
            "max_width": null,
            "order": null,
            "_view_module_version": "1.2.0",
            "grid_template_areas": null,
            "object_position": null,
            "object_fit": null,
            "grid_auto_columns": null,
            "margin": null,
            "display": null,
            "left": null
          }
        },
        "3e8663a0b3534515b7e1a2f21dafdd5a": {
          "model_module": "@jupyter-widgets/controls",
          "model_name": "HBoxModel",
          "state": {
            "_view_name": "HBoxView",
            "_dom_classes": [],
            "_model_name": "HBoxModel",
            "_view_module": "@jupyter-widgets/controls",
            "_model_module_version": "1.5.0",
            "_view_count": null,
            "_view_module_version": "1.5.0",
            "box_style": "",
            "layout": "IPY_MODEL_0b3005255d164e07af66b3924b12994c",
            "_model_module": "@jupyter-widgets/controls",
            "children": [
              "IPY_MODEL_a5dcad984808409ebcfd51b22bd24dc0",
              "IPY_MODEL_32de77e2395d4d158cae678f54114191"
            ]
          }
        },
        "0b3005255d164e07af66b3924b12994c": {
          "model_module": "@jupyter-widgets/base",
          "model_name": "LayoutModel",
          "state": {
            "_view_name": "LayoutView",
            "grid_template_rows": null,
            "right": null,
            "justify_content": null,
            "_view_module": "@jupyter-widgets/base",
            "overflow": null,
            "_model_module_version": "1.2.0",
            "_view_count": null,
            "flex_flow": null,
            "width": null,
            "min_width": null,
            "border": null,
            "align_items": null,
            "bottom": null,
            "_model_module": "@jupyter-widgets/base",
            "top": null,
            "grid_column": null,
            "overflow_y": null,
            "overflow_x": null,
            "grid_auto_flow": null,
            "grid_area": null,
            "grid_template_columns": null,
            "flex": null,
            "_model_name": "LayoutModel",
            "justify_items": null,
            "grid_row": null,
            "max_height": null,
            "align_content": null,
            "visibility": null,
            "align_self": null,
            "height": null,
            "min_height": null,
            "padding": null,
            "grid_auto_rows": null,
            "grid_gap": null,
            "max_width": null,
            "order": null,
            "_view_module_version": "1.2.0",
            "grid_template_areas": null,
            "object_position": null,
            "object_fit": null,
            "grid_auto_columns": null,
            "margin": null,
            "display": null,
            "left": null
          }
        },
        "a5dcad984808409ebcfd51b22bd24dc0": {
          "model_module": "@jupyter-widgets/controls",
          "model_name": "FloatProgressModel",
          "state": {
            "_view_name": "ProgressView",
            "style": "IPY_MODEL_81145501aa5d4e369f940b822f7b4e7b",
            "_dom_classes": [],
            "description": "",
            "_model_name": "FloatProgressModel",
            "bar_style": "success",
            "max": 29515,
            "_view_module": "@jupyter-widgets/controls",
            "_model_module_version": "1.5.0",
            "value": 29515,
            "_view_count": null,
            "_view_module_version": "1.5.0",
            "orientation": "horizontal",
            "min": 0,
            "description_tooltip": null,
            "_model_module": "@jupyter-widgets/controls",
            "layout": "IPY_MODEL_84a490913bf347769d2628ccad14fbd0"
          }
        },
        "32de77e2395d4d158cae678f54114191": {
          "model_module": "@jupyter-widgets/controls",
          "model_name": "HTMLModel",
          "state": {
            "_view_name": "HTMLView",
            "style": "IPY_MODEL_26948e2221124b5fa0b539e53211a76a",
            "_dom_classes": [],
            "description": "",
            "_model_name": "HTMLModel",
            "placeholder": "​",
            "_view_module": "@jupyter-widgets/controls",
            "_model_module_version": "1.5.0",
            "value": " 29696/? [00:06&lt;00:00, 4410.29it/s]",
            "_view_count": null,
            "_view_module_version": "1.5.0",
            "description_tooltip": null,
            "_model_module": "@jupyter-widgets/controls",
            "layout": "IPY_MODEL_628761bc210246169afcbcfadf8afeb2"
          }
        },
        "81145501aa5d4e369f940b822f7b4e7b": {
          "model_module": "@jupyter-widgets/controls",
          "model_name": "ProgressStyleModel",
          "state": {
            "_view_name": "StyleView",
            "_model_name": "ProgressStyleModel",
            "description_width": "initial",
            "_view_module": "@jupyter-widgets/base",
            "_model_module_version": "1.5.0",
            "_view_count": null,
            "_view_module_version": "1.2.0",
            "bar_color": null,
            "_model_module": "@jupyter-widgets/controls"
          }
        },
        "84a490913bf347769d2628ccad14fbd0": {
          "model_module": "@jupyter-widgets/base",
          "model_name": "LayoutModel",
          "state": {
            "_view_name": "LayoutView",
            "grid_template_rows": null,
            "right": null,
            "justify_content": null,
            "_view_module": "@jupyter-widgets/base",
            "overflow": null,
            "_model_module_version": "1.2.0",
            "_view_count": null,
            "flex_flow": null,
            "width": null,
            "min_width": null,
            "border": null,
            "align_items": null,
            "bottom": null,
            "_model_module": "@jupyter-widgets/base",
            "top": null,
            "grid_column": null,
            "overflow_y": null,
            "overflow_x": null,
            "grid_auto_flow": null,
            "grid_area": null,
            "grid_template_columns": null,
            "flex": null,
            "_model_name": "LayoutModel",
            "justify_items": null,
            "grid_row": null,
            "max_height": null,
            "align_content": null,
            "visibility": null,
            "align_self": null,
            "height": null,
            "min_height": null,
            "padding": null,
            "grid_auto_rows": null,
            "grid_gap": null,
            "max_width": null,
            "order": null,
            "_view_module_version": "1.2.0",
            "grid_template_areas": null,
            "object_position": null,
            "object_fit": null,
            "grid_auto_columns": null,
            "margin": null,
            "display": null,
            "left": null
          }
        },
        "26948e2221124b5fa0b539e53211a76a": {
          "model_module": "@jupyter-widgets/controls",
          "model_name": "DescriptionStyleModel",
          "state": {
            "_view_name": "StyleView",
            "_model_name": "DescriptionStyleModel",
            "description_width": "",
            "_view_module": "@jupyter-widgets/base",
            "_model_module_version": "1.5.0",
            "_view_count": null,
            "_view_module_version": "1.2.0",
            "_model_module": "@jupyter-widgets/controls"
          }
        },
        "628761bc210246169afcbcfadf8afeb2": {
          "model_module": "@jupyter-widgets/base",
          "model_name": "LayoutModel",
          "state": {
            "_view_name": "LayoutView",
            "grid_template_rows": null,
            "right": null,
            "justify_content": null,
            "_view_module": "@jupyter-widgets/base",
            "overflow": null,
            "_model_module_version": "1.2.0",
            "_view_count": null,
            "flex_flow": null,
            "width": null,
            "min_width": null,
            "border": null,
            "align_items": null,
            "bottom": null,
            "_model_module": "@jupyter-widgets/base",
            "top": null,
            "grid_column": null,
            "overflow_y": null,
            "overflow_x": null,
            "grid_auto_flow": null,
            "grid_area": null,
            "grid_template_columns": null,
            "flex": null,
            "_model_name": "LayoutModel",
            "justify_items": null,
            "grid_row": null,
            "max_height": null,
            "align_content": null,
            "visibility": null,
            "align_self": null,
            "height": null,
            "min_height": null,
            "padding": null,
            "grid_auto_rows": null,
            "grid_gap": null,
            "max_width": null,
            "order": null,
            "_view_module_version": "1.2.0",
            "grid_template_areas": null,
            "object_position": null,
            "object_fit": null,
            "grid_auto_columns": null,
            "margin": null,
            "display": null,
            "left": null
          }
        },
        "0d29c37d0eee4ba4824a94c83e6645ae": {
          "model_module": "@jupyter-widgets/controls",
          "model_name": "HBoxModel",
          "state": {
            "_view_name": "HBoxView",
            "_dom_classes": [],
            "_model_name": "HBoxModel",
            "_view_module": "@jupyter-widgets/controls",
            "_model_module_version": "1.5.0",
            "_view_count": null,
            "_view_module_version": "1.5.0",
            "box_style": "",
            "layout": "IPY_MODEL_45d47ac1cc954a828197ec105c0cf9e8",
            "_model_module": "@jupyter-widgets/controls",
            "children": [
              "IPY_MODEL_7ddb8e479d0e426f8245eac55f9ef209",
              "IPY_MODEL_8d660014960947008283abb92d1fb301"
            ]
          }
        },
        "45d47ac1cc954a828197ec105c0cf9e8": {
          "model_module": "@jupyter-widgets/base",
          "model_name": "LayoutModel",
          "state": {
            "_view_name": "LayoutView",
            "grid_template_rows": null,
            "right": null,
            "justify_content": null,
            "_view_module": "@jupyter-widgets/base",
            "overflow": null,
            "_model_module_version": "1.2.0",
            "_view_count": null,
            "flex_flow": null,
            "width": null,
            "min_width": null,
            "border": null,
            "align_items": null,
            "bottom": null,
            "_model_module": "@jupyter-widgets/base",
            "top": null,
            "grid_column": null,
            "overflow_y": null,
            "overflow_x": null,
            "grid_auto_flow": null,
            "grid_area": null,
            "grid_template_columns": null,
            "flex": null,
            "_model_name": "LayoutModel",
            "justify_items": null,
            "grid_row": null,
            "max_height": null,
            "align_content": null,
            "visibility": null,
            "align_self": null,
            "height": null,
            "min_height": null,
            "padding": null,
            "grid_auto_rows": null,
            "grid_gap": null,
            "max_width": null,
            "order": null,
            "_view_module_version": "1.2.0",
            "grid_template_areas": null,
            "object_position": null,
            "object_fit": null,
            "grid_auto_columns": null,
            "margin": null,
            "display": null,
            "left": null
          }
        },
        "7ddb8e479d0e426f8245eac55f9ef209": {
          "model_module": "@jupyter-widgets/controls",
          "model_name": "FloatProgressModel",
          "state": {
            "_view_name": "ProgressView",
            "style": "IPY_MODEL_7a334d79aacb43c7b6010fbc1f875aca",
            "_dom_classes": [],
            "description": "",
            "_model_name": "FloatProgressModel",
            "bar_style": "success",
            "max": 4422102,
            "_view_module": "@jupyter-widgets/controls",
            "_model_module_version": "1.5.0",
            "value": 4422102,
            "_view_count": null,
            "_view_module_version": "1.5.0",
            "orientation": "horizontal",
            "min": 0,
            "description_tooltip": null,
            "_model_module": "@jupyter-widgets/controls",
            "layout": "IPY_MODEL_e5543801fdaf41359c54b272736d1b7a"
          }
        },
        "8d660014960947008283abb92d1fb301": {
          "model_module": "@jupyter-widgets/controls",
          "model_name": "HTMLModel",
          "state": {
            "_view_name": "HTMLView",
            "style": "IPY_MODEL_911d13d87fea4ee2b6be8270075db775",
            "_dom_classes": [],
            "description": "",
            "_model_name": "HTMLModel",
            "placeholder": "​",
            "_view_module": "@jupyter-widgets/controls",
            "_model_module_version": "1.5.0",
            "value": " 4422656/? [00:06&lt;00:00, 686608.67it/s]",
            "_view_count": null,
            "_view_module_version": "1.5.0",
            "description_tooltip": null,
            "_model_module": "@jupyter-widgets/controls",
            "layout": "IPY_MODEL_71a4456023334c5aaadd3fff72a8ea99"
          }
        },
        "7a334d79aacb43c7b6010fbc1f875aca": {
          "model_module": "@jupyter-widgets/controls",
          "model_name": "ProgressStyleModel",
          "state": {
            "_view_name": "StyleView",
            "_model_name": "ProgressStyleModel",
            "description_width": "initial",
            "_view_module": "@jupyter-widgets/base",
            "_model_module_version": "1.5.0",
            "_view_count": null,
            "_view_module_version": "1.2.0",
            "bar_color": null,
            "_model_module": "@jupyter-widgets/controls"
          }
        },
        "e5543801fdaf41359c54b272736d1b7a": {
          "model_module": "@jupyter-widgets/base",
          "model_name": "LayoutModel",
          "state": {
            "_view_name": "LayoutView",
            "grid_template_rows": null,
            "right": null,
            "justify_content": null,
            "_view_module": "@jupyter-widgets/base",
            "overflow": null,
            "_model_module_version": "1.2.0",
            "_view_count": null,
            "flex_flow": null,
            "width": null,
            "min_width": null,
            "border": null,
            "align_items": null,
            "bottom": null,
            "_model_module": "@jupyter-widgets/base",
            "top": null,
            "grid_column": null,
            "overflow_y": null,
            "overflow_x": null,
            "grid_auto_flow": null,
            "grid_area": null,
            "grid_template_columns": null,
            "flex": null,
            "_model_name": "LayoutModel",
            "justify_items": null,
            "grid_row": null,
            "max_height": null,
            "align_content": null,
            "visibility": null,
            "align_self": null,
            "height": null,
            "min_height": null,
            "padding": null,
            "grid_auto_rows": null,
            "grid_gap": null,
            "max_width": null,
            "order": null,
            "_view_module_version": "1.2.0",
            "grid_template_areas": null,
            "object_position": null,
            "object_fit": null,
            "grid_auto_columns": null,
            "margin": null,
            "display": null,
            "left": null
          }
        },
        "911d13d87fea4ee2b6be8270075db775": {
          "model_module": "@jupyter-widgets/controls",
          "model_name": "DescriptionStyleModel",
          "state": {
            "_view_name": "StyleView",
            "_model_name": "DescriptionStyleModel",
            "description_width": "",
            "_view_module": "@jupyter-widgets/base",
            "_model_module_version": "1.5.0",
            "_view_count": null,
            "_view_module_version": "1.2.0",
            "_model_module": "@jupyter-widgets/controls"
          }
        },
        "71a4456023334c5aaadd3fff72a8ea99": {
          "model_module": "@jupyter-widgets/base",
          "model_name": "LayoutModel",
          "state": {
            "_view_name": "LayoutView",
            "grid_template_rows": null,
            "right": null,
            "justify_content": null,
            "_view_module": "@jupyter-widgets/base",
            "overflow": null,
            "_model_module_version": "1.2.0",
            "_view_count": null,
            "flex_flow": null,
            "width": null,
            "min_width": null,
            "border": null,
            "align_items": null,
            "bottom": null,
            "_model_module": "@jupyter-widgets/base",
            "top": null,
            "grid_column": null,
            "overflow_y": null,
            "overflow_x": null,
            "grid_auto_flow": null,
            "grid_area": null,
            "grid_template_columns": null,
            "flex": null,
            "_model_name": "LayoutModel",
            "justify_items": null,
            "grid_row": null,
            "max_height": null,
            "align_content": null,
            "visibility": null,
            "align_self": null,
            "height": null,
            "min_height": null,
            "padding": null,
            "grid_auto_rows": null,
            "grid_gap": null,
            "max_width": null,
            "order": null,
            "_view_module_version": "1.2.0",
            "grid_template_areas": null,
            "object_position": null,
            "object_fit": null,
            "grid_auto_columns": null,
            "margin": null,
            "display": null,
            "left": null
          }
        },
        "a965d5e4cc0948ae909c9526657fe65f": {
          "model_module": "@jupyter-widgets/controls",
          "model_name": "HBoxModel",
          "state": {
            "_view_name": "HBoxView",
            "_dom_classes": [],
            "_model_name": "HBoxModel",
            "_view_module": "@jupyter-widgets/controls",
            "_model_module_version": "1.5.0",
            "_view_count": null,
            "_view_module_version": "1.5.0",
            "box_style": "",
            "layout": "IPY_MODEL_dd19e4381e3a4aff8392476f892c9d1a",
            "_model_module": "@jupyter-widgets/controls",
            "children": [
              "IPY_MODEL_2e18b513efdc4d618c42354d530baf41",
              "IPY_MODEL_8a7da58c66ab49c3bf0330e8e86651b8"
            ]
          }
        },
        "dd19e4381e3a4aff8392476f892c9d1a": {
          "model_module": "@jupyter-widgets/base",
          "model_name": "LayoutModel",
          "state": {
            "_view_name": "LayoutView",
            "grid_template_rows": null,
            "right": null,
            "justify_content": null,
            "_view_module": "@jupyter-widgets/base",
            "overflow": null,
            "_model_module_version": "1.2.0",
            "_view_count": null,
            "flex_flow": null,
            "width": null,
            "min_width": null,
            "border": null,
            "align_items": null,
            "bottom": null,
            "_model_module": "@jupyter-widgets/base",
            "top": null,
            "grid_column": null,
            "overflow_y": null,
            "overflow_x": null,
            "grid_auto_flow": null,
            "grid_area": null,
            "grid_template_columns": null,
            "flex": null,
            "_model_name": "LayoutModel",
            "justify_items": null,
            "grid_row": null,
            "max_height": null,
            "align_content": null,
            "visibility": null,
            "align_self": null,
            "height": null,
            "min_height": null,
            "padding": null,
            "grid_auto_rows": null,
            "grid_gap": null,
            "max_width": null,
            "order": null,
            "_view_module_version": "1.2.0",
            "grid_template_areas": null,
            "object_position": null,
            "object_fit": null,
            "grid_auto_columns": null,
            "margin": null,
            "display": null,
            "left": null
          }
        },
        "2e18b513efdc4d618c42354d530baf41": {
          "model_module": "@jupyter-widgets/controls",
          "model_name": "FloatProgressModel",
          "state": {
            "_view_name": "ProgressView",
            "style": "IPY_MODEL_cab9d1c006d6417bb05687bdb500456b",
            "_dom_classes": [],
            "description": "",
            "_model_name": "FloatProgressModel",
            "bar_style": "success",
            "max": 5148,
            "_view_module": "@jupyter-widgets/controls",
            "_model_module_version": "1.5.0",
            "value": 5148,
            "_view_count": null,
            "_view_module_version": "1.5.0",
            "orientation": "horizontal",
            "min": 0,
            "description_tooltip": null,
            "_model_module": "@jupyter-widgets/controls",
            "layout": "IPY_MODEL_a8fe05e4b8d4429da9f3d6bdfadedb4b"
          }
        },
        "8a7da58c66ab49c3bf0330e8e86651b8": {
          "model_module": "@jupyter-widgets/controls",
          "model_name": "HTMLModel",
          "state": {
            "_view_name": "HTMLView",
            "style": "IPY_MODEL_c864c2c7253e4beb952972b6dde66c0f",
            "_dom_classes": [],
            "description": "",
            "_model_name": "HTMLModel",
            "placeholder": "​",
            "_view_module": "@jupyter-widgets/controls",
            "_model_module_version": "1.5.0",
            "value": " 6144/? [00:06&lt;00:00, 1006.38it/s]",
            "_view_count": null,
            "_view_module_version": "1.5.0",
            "description_tooltip": null,
            "_model_module": "@jupyter-widgets/controls",
            "layout": "IPY_MODEL_3a62468fbcb14ac5bf5f8c3e9ff19ec5"
          }
        },
        "cab9d1c006d6417bb05687bdb500456b": {
          "model_module": "@jupyter-widgets/controls",
          "model_name": "ProgressStyleModel",
          "state": {
            "_view_name": "StyleView",
            "_model_name": "ProgressStyleModel",
            "description_width": "initial",
            "_view_module": "@jupyter-widgets/base",
            "_model_module_version": "1.5.0",
            "_view_count": null,
            "_view_module_version": "1.2.0",
            "bar_color": null,
            "_model_module": "@jupyter-widgets/controls"
          }
        },
        "a8fe05e4b8d4429da9f3d6bdfadedb4b": {
          "model_module": "@jupyter-widgets/base",
          "model_name": "LayoutModel",
          "state": {
            "_view_name": "LayoutView",
            "grid_template_rows": null,
            "right": null,
            "justify_content": null,
            "_view_module": "@jupyter-widgets/base",
            "overflow": null,
            "_model_module_version": "1.2.0",
            "_view_count": null,
            "flex_flow": null,
            "width": null,
            "min_width": null,
            "border": null,
            "align_items": null,
            "bottom": null,
            "_model_module": "@jupyter-widgets/base",
            "top": null,
            "grid_column": null,
            "overflow_y": null,
            "overflow_x": null,
            "grid_auto_flow": null,
            "grid_area": null,
            "grid_template_columns": null,
            "flex": null,
            "_model_name": "LayoutModel",
            "justify_items": null,
            "grid_row": null,
            "max_height": null,
            "align_content": null,
            "visibility": null,
            "align_self": null,
            "height": null,
            "min_height": null,
            "padding": null,
            "grid_auto_rows": null,
            "grid_gap": null,
            "max_width": null,
            "order": null,
            "_view_module_version": "1.2.0",
            "grid_template_areas": null,
            "object_position": null,
            "object_fit": null,
            "grid_auto_columns": null,
            "margin": null,
            "display": null,
            "left": null
          }
        },
        "c864c2c7253e4beb952972b6dde66c0f": {
          "model_module": "@jupyter-widgets/controls",
          "model_name": "DescriptionStyleModel",
          "state": {
            "_view_name": "StyleView",
            "_model_name": "DescriptionStyleModel",
            "description_width": "",
            "_view_module": "@jupyter-widgets/base",
            "_model_module_version": "1.5.0",
            "_view_count": null,
            "_view_module_version": "1.2.0",
            "_model_module": "@jupyter-widgets/controls"
          }
        },
        "3a62468fbcb14ac5bf5f8c3e9ff19ec5": {
          "model_module": "@jupyter-widgets/base",
          "model_name": "LayoutModel",
          "state": {
            "_view_name": "LayoutView",
            "grid_template_rows": null,
            "right": null,
            "justify_content": null,
            "_view_module": "@jupyter-widgets/base",
            "overflow": null,
            "_model_module_version": "1.2.0",
            "_view_count": null,
            "flex_flow": null,
            "width": null,
            "min_width": null,
            "border": null,
            "align_items": null,
            "bottom": null,
            "_model_module": "@jupyter-widgets/base",
            "top": null,
            "grid_column": null,
            "overflow_y": null,
            "overflow_x": null,
            "grid_auto_flow": null,
            "grid_area": null,
            "grid_template_columns": null,
            "flex": null,
            "_model_name": "LayoutModel",
            "justify_items": null,
            "grid_row": null,
            "max_height": null,
            "align_content": null,
            "visibility": null,
            "align_self": null,
            "height": null,
            "min_height": null,
            "padding": null,
            "grid_auto_rows": null,
            "grid_gap": null,
            "max_width": null,
            "order": null,
            "_view_module_version": "1.2.0",
            "grid_template_areas": null,
            "object_position": null,
            "object_fit": null,
            "grid_auto_columns": null,
            "margin": null,
            "display": null,
            "left": null
          }
        }
      }
    }
  },
  "cells": [
    {
      "cell_type": "markdown",
      "metadata": {
        "id": "HQfGoK4btj8h"
      },
      "source": [
        "# Project 2: Denoising Neural Network for Fashion MNIST Dataset\n",
        "\n",
        "---\n",
        "<div style=\"text-align: center\"> Ceren Daştanoğlu - 04 May 2021 </div>\n",
        "\n",
        "## Introduction\n",
        "This report is divided into 5 parts and 14 chapters. In Parts I, II and III we will construct and analyze a Denoising Neural Network, while in Parts IV and V we will implement a \"traditional\" Gaussian filter.\n",
        "\n",
        "**Part I : Training**\n",
        "* *1. Goals*\n",
        "* *2. Model and architecture of the network*\n",
        "* *3. Data preparation*\n",
        "* *4. Training procedures*\n",
        "\n",
        "**Part II: Testing**\n",
        "* *5. Test and performance evaluations*\n",
        "* *6. Results, observations and conclusions*\n",
        "\n",
        "**Part III: Code**\n",
        "* *7. Complete code (parts I and II)*\n",
        "\n",
        "**Part IV: Traditional Filtering**\n",
        "* *8. Goals*\n",
        "* *9. Noise adding*\n",
        "* *10. Noise removing*\n",
        "* *11. Test and performance evaluations*\n",
        "* *12. Results, observations and conclusions*\n",
        "* *13. Comparison between NN and traditional technique*\n",
        "\n",
        "**Part V: Code**\n",
        "* *14. Complete code (part IV)*\n",
        "\n"
      ]
    },
    {
      "cell_type": "markdown",
      "metadata": {
        "id": "biND9z4RDlMB"
      },
      "source": [
        "# Part I: Training"
      ]
    },
    {
      "cell_type": "markdown",
      "metadata": {
        "id": "wNytx4_GB1X7"
      },
      "source": [
        "\n",
        "## 1. Goals\n",
        "The aim of this project is to implement and train a Denoising Convolutional Autoencoder Network for image reconstruction, and to test it and analyze the results. We will use the Fashion MNIST image dataset and manually add noise to the images.\n",
        "\n",
        "By giving noisy images as inputs to the Autoencoder NN, the encoder part will compress them, and the decoder will reconstruct the original denoised images from the compressed representation. Finally, we will see how well the model performs after training by giving it some test images for denoising and reconstruction."
      ]
    },
    {
      "cell_type": "markdown",
      "metadata": {
        "id": "Bo9CwrjgB4En"
      },
      "source": [
        "## 2. Model and architecture of the network\n",
        "The Autoencoder NN is divided into an encoder part and a symmetric decoder part.\n",
        "* **Encoder layers**\n",
        "  * *Convolutional layer 1*: input channels = 1 (grayscale image), output channels = 64 (number of kernels), kernel size = 3, padding = 1; \n",
        "  * *Convolutional layer 2*: input channels = 64, output channels = 32, kernel size = 3, padding = 1;\n",
        "  * *Convolutional layer 3*: input channels = 32, output channels = 16, kernel size = 3, padding = 1;\n",
        "  * *Convolutional layer 4*: input channels = 16, output channels = 8, kernel size = 3, padding = 1;\n",
        "  * *Max Pooling layer*: size = 2x2;\n",
        "* **Decoder layers**\n",
        "  * *Transposed Convolutional layer 1*:  input channels = 8, output channels = 8, kernel size = 3, stride = 2;\n",
        "  * *Transposed Convolutional layer 2*:  input channels = 8, output channels = 16, kernel size = 3, stride = 2;\n",
        "  * *Transposed Convolutional layer 3*:  input channels = 16, output channels = 32, kernel size = 2, stride = 2;\n",
        "  * *Transposed Convolutional layer 4*:  input channels = 32, output channels = 64, kernel size = 2, stride = 2;\n",
        "  * *Convolutional layer (output)*:  input channels = 64, output channels = 1, kernel size = 3, padding = 1.\n",
        "\n",
        "Each of the encoding layers is passed through the ReLU activation function, and there is a max pooling layer after each convolutional layer. After the last pooling layer we get the latent space code representation of the input data.\n",
        "\n",
        "Similarly, every transposed convolutional layer is passed through the ReLU function, and the final convolutional layer uses the sigmoid activation function.\n",
        "\n",
        "![Trained CNN Architecture](https://drive.google.com/uc?id=1cqMWn13qhPi5Cb3eMiXeJhyedJR460Pa)\n",
        "\n"
      ]
    },
    {
      "cell_type": "markdown",
      "metadata": {
        "id": "jslIWgiIu97R"
      },
      "source": [
        "## 3. Data preparation\n"
      ]
    },
    {
      "cell_type": "markdown",
      "metadata": {
        "id": "K1fqPpEDIx0l"
      },
      "source": [
        "\n",
        "### Imports and costants\n",
        "\n",
        "First, we import all the useful modules."
      ]
    },
    {
      "cell_type": "code",
      "metadata": {
        "id": "1HktSL6uyiVB"
      },
      "source": [
        "import numpy as np\n",
        "import math\n",
        "import matplotlib.pyplot as plt\n",
        "\n",
        "import torch\n",
        "import torch.nn as nn\n",
        "\n",
        "import torchvision\n",
        "import torchvision.transforms as transforms"
      ],
      "execution_count": null,
      "outputs": []
    },
    {
      "cell_type": "markdown",
      "metadata": {
        "id": "Jd82hRHu10ry"
      },
      "source": [
        "Then, we define some useful constants. We will train the network for 8 epochs, with a learning rate of 0.001 and a batch size of 16. The `VARIANCE_TRAINING` defines the amount of noise we will add to the images.\n",
        "\n",
        "We will use the GPU for the computation if available, otherwise the CPU will be used."
      ]
    },
    {
      "cell_type": "code",
      "metadata": {
        "id": "dxcLA6viyoeY",
        "colab": {
          "base_uri": "https://localhost:8080/"
        },
        "outputId": "4c0d34c0-de54-4c90-8002-a7094ae8aa8f"
      },
      "source": [
        "## TODO\n",
        "# define the constants\n",
        "NUM_EPOCHS = 8\n",
        "LEARNING_RATE = 0.001\n",
        "BATCH_SIZE = 16\n",
        "VARIANCE_TRAINING = 0.001\n",
        "SD_TRAINING = math.sqrt(VARIANCE_TRAINING)\n",
        "\n",
        "\n",
        "## TODO\n",
        "# define the device (GPU, else CPU)\n",
        "device = torch.device(\"cuda:0\" if torch.cuda.is_available() else \"cpu\")\n",
        "print(device)"
      ],
      "execution_count": null,
      "outputs": [
        {
          "output_type": "stream",
          "text": [
            "cuda:0\n"
          ],
          "name": "stdout"
        }
      ]
    },
    {
      "cell_type": "markdown",
      "metadata": {
        "id": "06Klf1iC24fm"
      },
      "source": [
        "### Load the data\n",
        "\n",
        "We prepare the training set and test set."
      ]
    },
    {
      "cell_type": "code",
      "metadata": {
        "id": "elLo4C3ryu20",
        "colab": {
          "base_uri": "https://localhost:8080/",
          "height": 607,
          "referenced_widgets": [
            "91f140cd3ba54ab1817d1a6b8d8a43fd",
            "3bece3e8f63e4a2b827afd54b661e3a8",
            "ae7c8b41a0a547289981caac4689aa8f",
            "a041519356a34a94b96876b50dd0649a",
            "7bc8844c7de04b68ac90db0c66932b11",
            "c1bfcc2bb6af4dda99c18fb92b90e0e8",
            "995c168f080b4829a5c62c4394dd714e",
            "80eea4b886de49048f84cfcc28f7da49",
            "3e8663a0b3534515b7e1a2f21dafdd5a",
            "0b3005255d164e07af66b3924b12994c",
            "a5dcad984808409ebcfd51b22bd24dc0",
            "32de77e2395d4d158cae678f54114191",
            "81145501aa5d4e369f940b822f7b4e7b",
            "84a490913bf347769d2628ccad14fbd0",
            "26948e2221124b5fa0b539e53211a76a",
            "628761bc210246169afcbcfadf8afeb2",
            "0d29c37d0eee4ba4824a94c83e6645ae",
            "45d47ac1cc954a828197ec105c0cf9e8",
            "7ddb8e479d0e426f8245eac55f9ef209",
            "8d660014960947008283abb92d1fb301",
            "7a334d79aacb43c7b6010fbc1f875aca",
            "e5543801fdaf41359c54b272736d1b7a",
            "911d13d87fea4ee2b6be8270075db775",
            "71a4456023334c5aaadd3fff72a8ea99",
            "a965d5e4cc0948ae909c9526657fe65f",
            "dd19e4381e3a4aff8392476f892c9d1a",
            "2e18b513efdc4d618c42354d530baf41",
            "8a7da58c66ab49c3bf0330e8e86651b8",
            "cab9d1c006d6417bb05687bdb500456b",
            "a8fe05e4b8d4429da9f3d6bdfadedb4b",
            "c864c2c7253e4beb952972b6dde66c0f",
            "3a62468fbcb14ac5bf5f8c3e9ff19ec5"
          ]
        },
        "outputId": "0c1a3a8c-717d-4236-e54d-dc4016554292"
      },
      "source": [
        "# transforms\n",
        "transform = transforms.Compose([\n",
        "    transforms.ToTensor(), # converting image pixel data to tensors\n",
        "    transforms.Normalize((0.5,), (0.5,)), # normalizing the tensor image\n",
        "])\n",
        "\n",
        "## TODO\n",
        "# 1. Load train_set and test_set (use transform=transform),\n",
        "#    and define train_loader and test_loader (also\n",
        "#    use shuffle=True).\n",
        "\n",
        "train_set = torchvision.datasets.FashionMNIST(\n",
        "    root=\"./data\",\n",
        "    download=True,\n",
        "    train = True,\n",
        "    transform = transform\n",
        ")\n",
        "\n",
        "train_loader = torch.utils.data.DataLoader(\n",
        "    train_set,\n",
        "    batch_size = BATCH_SIZE,\n",
        "    shuffle = True\n",
        ")\n",
        "\n",
        "test_set = torchvision.datasets.FashionMNIST(\n",
        "    root=\"./data\",\n",
        "    download=True,\n",
        "    train = False,\n",
        "    transform = transform\n",
        ")\n",
        "\n",
        "test_loader = torch.utils.data.DataLoader(\n",
        "    test_set,\n",
        "    batch_size = BATCH_SIZE,\n",
        "    shuffle = True\n",
        ")\n",
        "\n",
        "# 2. Check training set and test set size\n",
        "\n",
        "print(\"Train set size:\", len(train_set))\n",
        "print(\"Test set size:\", len(test_set)) \n",
        "\n",
        "\n"
      ],
      "execution_count": null,
      "outputs": [
        {
          "output_type": "stream",
          "text": [
            "Downloading http://fashion-mnist.s3-website.eu-central-1.amazonaws.com/train-images-idx3-ubyte.gz\n",
            "Downloading http://fashion-mnist.s3-website.eu-central-1.amazonaws.com/train-images-idx3-ubyte.gz to ./data/FashionMNIST/raw/train-images-idx3-ubyte.gz\n"
          ],
          "name": "stdout"
        },
        {
          "output_type": "display_data",
          "data": {
            "application/vnd.jupyter.widget-view+json": {
              "model_id": "91f140cd3ba54ab1817d1a6b8d8a43fd",
              "version_minor": 0,
              "version_major": 2
            },
            "text/plain": [
              "HBox(children=(FloatProgress(value=0.0, max=26421880.0), HTML(value='')))"
            ]
          },
          "metadata": {
            "tags": []
          }
        },
        {
          "output_type": "stream",
          "text": [
            "\n",
            "Extracting ./data/FashionMNIST/raw/train-images-idx3-ubyte.gz to ./data/FashionMNIST/raw\n",
            "\n",
            "Downloading http://fashion-mnist.s3-website.eu-central-1.amazonaws.com/train-labels-idx1-ubyte.gz\n",
            "Downloading http://fashion-mnist.s3-website.eu-central-1.amazonaws.com/train-labels-idx1-ubyte.gz to ./data/FashionMNIST/raw/train-labels-idx1-ubyte.gz\n"
          ],
          "name": "stdout"
        },
        {
          "output_type": "display_data",
          "data": {
            "application/vnd.jupyter.widget-view+json": {
              "model_id": "3e8663a0b3534515b7e1a2f21dafdd5a",
              "version_minor": 0,
              "version_major": 2
            },
            "text/plain": [
              "HBox(children=(FloatProgress(value=0.0, max=29515.0), HTML(value='')))"
            ]
          },
          "metadata": {
            "tags": []
          }
        },
        {
          "output_type": "stream",
          "text": [
            "\n",
            "Extracting ./data/FashionMNIST/raw/train-labels-idx1-ubyte.gz to ./data/FashionMNIST/raw\n",
            "\n",
            "Downloading http://fashion-mnist.s3-website.eu-central-1.amazonaws.com/t10k-images-idx3-ubyte.gz\n",
            "Downloading http://fashion-mnist.s3-website.eu-central-1.amazonaws.com/t10k-images-idx3-ubyte.gz to ./data/FashionMNIST/raw/t10k-images-idx3-ubyte.gz\n"
          ],
          "name": "stdout"
        },
        {
          "output_type": "display_data",
          "data": {
            "application/vnd.jupyter.widget-view+json": {
              "model_id": "0d29c37d0eee4ba4824a94c83e6645ae",
              "version_minor": 0,
              "version_major": 2
            },
            "text/plain": [
              "HBox(children=(FloatProgress(value=0.0, max=4422102.0), HTML(value='')))"
            ]
          },
          "metadata": {
            "tags": []
          }
        },
        {
          "output_type": "stream",
          "text": [
            "\n",
            "Extracting ./data/FashionMNIST/raw/t10k-images-idx3-ubyte.gz to ./data/FashionMNIST/raw\n",
            "\n",
            "Downloading http://fashion-mnist.s3-website.eu-central-1.amazonaws.com/t10k-labels-idx1-ubyte.gz\n",
            "Downloading http://fashion-mnist.s3-website.eu-central-1.amazonaws.com/t10k-labels-idx1-ubyte.gz to ./data/FashionMNIST/raw/t10k-labels-idx1-ubyte.gz\n"
          ],
          "name": "stdout"
        },
        {
          "output_type": "display_data",
          "data": {
            "application/vnd.jupyter.widget-view+json": {
              "model_id": "a965d5e4cc0948ae909c9526657fe65f",
              "version_minor": 0,
              "version_major": 2
            },
            "text/plain": [
              "HBox(children=(FloatProgress(value=0.0, max=5148.0), HTML(value='')))"
            ]
          },
          "metadata": {
            "tags": []
          }
        },
        {
          "output_type": "stream",
          "text": [
            "\n",
            "Extracting ./data/FashionMNIST/raw/t10k-labels-idx1-ubyte.gz to ./data/FashionMNIST/raw\n",
            "\n",
            "Processing...\n",
            "Done!\n",
            "Train set size: 60000\n",
            "Test set size: 10000\n"
          ],
          "name": "stdout"
        },
        {
          "output_type": "stream",
          "text": [
            "/usr/local/lib/python3.7/dist-packages/torchvision/datasets/mnist.py:502: UserWarning: The given NumPy array is not writeable, and PyTorch does not support non-writeable tensors. This means you can write to the underlying (supposedly non-writeable) NumPy array using the tensor. You may want to copy the array to protect its data or make it writeable before converting it to a tensor. This type of warning will be suppressed for the rest of this program. (Triggered internally at  /pytorch/torch/csrc/utils/tensor_numpy.cpp:143.)\n",
            "  return torch.from_numpy(parsed.astype(m[2], copy=False)).view(*s)\n"
          ],
          "name": "stderr"
        }
      ]
    },
    {
      "cell_type": "markdown",
      "metadata": {
        "id": "Rx9cdaxs4Fk2"
      },
      "source": [
        "### Visualize training data\n",
        "\n",
        "Let's visualize 20 random images from the training set, with their respective label."
      ]
    },
    {
      "cell_type": "code",
      "metadata": {
        "id": "sgj4YFnyy_tb",
        "colab": {
          "base_uri": "https://localhost:8080/",
          "height": 481
        },
        "outputId": "82919fc5-8316-414c-920f-8364ed0e36df"
      },
      "source": [
        "labels_map = {\n",
        "    0: \"T-Shirt\",\n",
        "    1: \"Trouser\",\n",
        "    2: \"Pullover\",\n",
        "    3: \"Dress\",\n",
        "    4: \"Coat\",\n",
        "    5: \"Sandal\",\n",
        "    6: \"Shirt\",\n",
        "    7: \"Sneaker\",\n",
        "    8: \"Bag\",\n",
        "    9: \"Ankle Boot\",\n",
        "}\n",
        "\n",
        "figure = plt.figure(figsize=(8, 8))\n",
        "cols, rows = 5, 4\n",
        "for i in range(1, cols * rows + 1):\n",
        "    sample_idx = torch.randint(len(train_set), size=(1,)).item()\n",
        "    img, label = train_set[sample_idx]\n",
        "    figure.add_subplot(rows, cols, i)\n",
        "    plt.title(labels_map[label])\n",
        "    plt.imshow(img.squeeze(), cmap=\"gray_r\")\n",
        "plt.show()\n",
        "\n"
      ],
      "execution_count": null,
      "outputs": [
        {
          "output_type": "display_data",
          "data": {
            "image/png": "[encoded data removed]",
            "text/plain": [
              "<Figure size 576x576 with 20 Axes>"
            ]
          },
          "metadata": {
            "tags": [],
            "needs_background": "light"
          }
        }
      ]
    },
    {
      "cell_type": "markdown",
      "metadata": {
        "id": "ALwxei4S4bUq"
      },
      "source": [
        "## 4. Training procedures\n",
        "\n"
      ]
    },
    {
      "cell_type": "markdown",
      "metadata": {
        "id": "z01FMA9qI2IH"
      },
      "source": [
        "### Define the autoencoder NN architecture\n",
        "\n",
        "We define all the layers we will require in the `Autoencoder` class constructor, and build the neural network in the `forward()` function.\n",
        "\n",
        "We istantiate a `model` object and print it to see the architecture."
      ]
    },
    {
      "cell_type": "code",
      "metadata": {
        "id": "LzRInK51zlI4",
        "colab": {
          "base_uri": "https://localhost:8080/"
        },
        "outputId": "86c0039a-e58f-498d-d54b-d03b30777d49"
      },
      "source": [
        "# the autoencoder network\n",
        "class Autoencoder(nn.Module):\n",
        "\n",
        "    def __init__(self):\n",
        "        super(Autoencoder, self).__init__()\n",
        "        ## TODO\n",
        "        # Go to pytorch.org/docs/stable/nn to find the \n",
        "        # list of all pytorch layers\n",
        "\n",
        "        # Instantiate the encoder layers (4 conv layers\n",
        "        # and 1 maxpool layer) as stated in Section 2\n",
        "        # ...\n",
        "\n",
        "        self.enc1 = nn.Conv2d(1, 64, kernel_size=3, padding=1)\n",
        "        self.enc2 = nn.Conv2d(64, 32, kernel_size=3, padding=1)\n",
        "        self.enc3 = nn.Conv2d(32, 16, kernel_size=3, padding=1)\n",
        "        self.enc4 = nn.Conv2d(16, 8, kernel_size=3, padding=1)\n",
        "        self.pool = nn.MaxPool2d(2, 2)\n",
        "\n",
        "\n",
        "        # Instantiate the decoder layers (4 conv transpose \n",
        "        # layers, use nn.ConvTranspose2d, and 1 conv layer) \n",
        "        # as stated in Section 2\n",
        "        # ...\n",
        "\n",
        "        self.dec1 = nn.ConvTranspose2d(8, 8, kernel_size=3, stride=2)\n",
        "        self.dec2 = nn.ConvTranspose2d(8, 16, kernel_size=3, stride=2)\n",
        "        self.dec3 = nn.ConvTranspose2d(16, 32, kernel_size=2, stride=2)\n",
        "        self.dec4 = nn.ConvTranspose2d(32, 64, kernel_size=2, stride=2)\n",
        "        self.out = nn.Conv2d(64, 1, kernel_size=3, padding=1)\n",
        "\n",
        "\n",
        "\n",
        "\n",
        "    def forward(self, x):\n",
        "        ## TODO\n",
        "        # Encoding\n",
        "        # Remember: each of the encoding layers is passed  \n",
        "        # through the ReLU activation function, and there \n",
        "        # is a max pooling layer after every conv layer.\n",
        "        \n",
        "        \n",
        "        x = nn.functional.relu(self.enc1(x))\n",
        "        x = self.pool(x)\n",
        "        x = nn.functional.relu(self.enc2(x))\n",
        "        x = self.pool(x)\n",
        "        x = nn.functional.relu(self.enc3(x))\n",
        "        x = self.pool(x)\n",
        "        x = nn.functional.relu(self.enc4(x))\n",
        "        x = self.pool(x)\n",
        "        \n",
        "        # Decoding\n",
        "        # Remember: every transposed convolutional layer \n",
        "        # is passed through the ReLU function, and the \n",
        "        # final convolutional layer uses the sigmoid \n",
        "        # activation function.\n",
        "        # ...\n",
        "        x = nn.functional.relu(self.dec1(x))\n",
        "        x = nn.functional.relu(self.dec2(x))\n",
        "        x = nn.functional.relu(self.dec3(x))\n",
        "        x = nn.functional.relu(self.dec4(x))\n",
        "        x = torch.sigmoid(self.out(x))\n",
        "\n",
        "\n",
        "        return x\n",
        "\n",
        "# create a model\n",
        "\n",
        "model = Autoencoder()\n",
        "print(model)"
      ],
      "execution_count": null,
      "outputs": [
        {
          "output_type": "stream",
          "text": [
            "Autoencoder(\n",
            "  (enc1): Conv2d(1, 64, kernel_size=(3, 3), stride=(1, 1), padding=(1, 1))\n",
            "  (enc2): Conv2d(64, 32, kernel_size=(3, 3), stride=(1, 1), padding=(1, 1))\n",
            "  (enc3): Conv2d(32, 16, kernel_size=(3, 3), stride=(1, 1), padding=(1, 1))\n",
            "  (enc4): Conv2d(16, 8, kernel_size=(3, 3), stride=(1, 1), padding=(1, 1))\n",
            "  (pool): MaxPool2d(kernel_size=2, stride=2, padding=0, dilation=1, ceil_mode=False)\n",
            "  (dec1): ConvTranspose2d(8, 8, kernel_size=(3, 3), stride=(2, 2))\n",
            "  (dec2): ConvTranspose2d(8, 16, kernel_size=(3, 3), stride=(2, 2))\n",
            "  (dec3): ConvTranspose2d(16, 32, kernel_size=(2, 2), stride=(2, 2))\n",
            "  (dec4): ConvTranspose2d(32, 64, kernel_size=(2, 2), stride=(2, 2))\n",
            "  (out): Conv2d(64, 1, kernel_size=(3, 3), stride=(1, 1), padding=(1, 1))\n",
            ")\n"
          ],
          "name": "stdout"
        }
      ]
    },
    {
      "cell_type": "markdown",
      "metadata": {
        "id": "gWhjDhIE6Iw_"
      },
      "source": [
        "### Model training\n",
        "\n",
        "We will write the training function. First, we define the loss function, in our case the Mean Squared Error, and the optimization algorithm, Adam.\n",
        "\n",
        "The training function loops over the epochs and batch by batch. It returns the training loss data."
      ]
    },
    {
      "cell_type": "code",
      "metadata": {
        "id": "j7jcqtL_0NaJ"
      },
      "source": [
        "## TODO\n",
        "# Write the loss function and the optimizer\n",
        "\n",
        "error = nn.MSELoss()\n",
        "optimizer = torch.optim.Adam(model.parameters(), lr=LEARNING_RATE)\n",
        "\n",
        "# the training function\n",
        "def train(model, train_loader, NUM_EPOCHS):\n",
        "    train_loss = []\n",
        "\n",
        "    for epoch in range(NUM_EPOCHS):\n",
        "        running_loss = 0.0\n",
        "        for data in train_loader:\n",
        "            img, _ = data # we do not need the image labels\n",
        "\n",
        "            # add noise to the image data\n",
        "            img_noisy = img + SD_TRAINING * torch.randn(img.shape)\n",
        "\n",
        "            # clip to make the values fall between 0 and 1\n",
        "            img_noisy = np.clip(img_noisy, 0., 1.)\n",
        "\n",
        "            # load the noisy images to the computation device \n",
        "            img_noisy = img_noisy.to(device)\n",
        "\n",
        "            ## TODO\n",
        "            # 1. Set the gradients to zero.\n",
        "            optimizer.zero_grad()\n",
        "            # 2. Feedforward pass. Remember: the MSE is calculated\n",
        "            #    between the outputs and the noisy images.\n",
        "            outputs = model(img_noisy)\n",
        "            loss = error(outputs, img_noisy)\n",
        "            # 3. Backpropagate.\n",
        "            loss.backward()\n",
        "            # 4. Optimize (update) the parameters.\n",
        "            optimizer.step()\n",
        "            \n",
        "            running_loss += loss.item()\n",
        "\n",
        "        loss = running_loss / len(train_loader)\n",
        "        train_loss.append(loss)\n",
        "        print('Epoch {} of {}, Train Loss: {:.4f}'.format(epoch+1, NUM_EPOCHS, loss))\n",
        "\n",
        "    return train_loss"
      ],
      "execution_count": null,
      "outputs": []
    },
    {
      "cell_type": "markdown",
      "metadata": {
        "id": "bQw2kkufncgT"
      },
      "source": [
        "Notice that when we add noise to the image we use `torch.randn`, which returns a tensor filled with random numbers from a normal distribution with mean 0 and variance 1. To change the variance we defined the constant `VARIANCE_TRAINING`, and multiplied the tensor with its square root (`SD_TRAINING`), that is the standard deviation.\n",
        "\n",
        "We call the `train` function and execute the training process."
      ]
    },
    {
      "cell_type": "code",
      "metadata": {
        "id": "InacR94GbgNH",
        "colab": {
          "base_uri": "https://localhost:8080/"
        },
        "outputId": "3a7aa19e-6bdb-453a-f4e1-ff00d7a34642"
      },
      "source": [
        "## TODO\n",
        "# 1. Transfer the model to the GPU if available.\n",
        "model.to(device)\n",
        "\n",
        "# 2. Execute the training by calling the train function\n",
        "#    and storing the result into a variable (it returns\n",
        "#    train_loss)\n",
        "\n",
        "train_loss = train(model, train_loader, NUM_EPOCHS)\n"
      ],
      "execution_count": null,
      "outputs": [
        {
          "output_type": "stream",
          "text": [
            "Epoch 1 of 8, Train Loss: 0.0308\n",
            "Epoch 2 of 8, Train Loss: 0.0229\n",
            "Epoch 3 of 8, Train Loss: 0.0218\n",
            "Epoch 4 of 8, Train Loss: 0.0211\n",
            "Epoch 5 of 8, Train Loss: 0.0206\n",
            "Epoch 6 of 8, Train Loss: 0.0203\n",
            "Epoch 7 of 8, Train Loss: 0.0200\n",
            "Epoch 8 of 8, Train Loss: 0.0197\n"
          ],
          "name": "stdout"
        }
      ]
    },
    {
      "cell_type": "markdown",
      "metadata": {
        "id": "IlrGSOjtENLH"
      },
      "source": [
        "# Part II: Testing"
      ]
    },
    {
      "cell_type": "markdown",
      "metadata": {
        "id": "p37Qe1PJgLlb"
      },
      "source": [
        "## 5. Test and performance evaluations\n",
        "\n"
      ]
    },
    {
      "cell_type": "markdown",
      "metadata": {
        "id": "hsxQeofMI6W3"
      },
      "source": [
        "### Loss curve\n",
        "\n",
        "We plot the training loss data over the epochs."
      ]
    },
    {
      "cell_type": "code",
      "metadata": {
        "id": "EhMQqu8zb5Fv",
        "colab": {
          "base_uri": "https://localhost:8080/",
          "height": 295
        },
        "outputId": "cff572df-5855-44ed-b452-73ca5c1690a5"
      },
      "source": [
        "## TODO\n",
        "# Plot the training loss curve. The data is stored\n",
        "# into the variable created in the previous step\n",
        "\n",
        "plt.figure()\n",
        "plt.plot('Train loss')\n",
        "plt.title('Curve')\n",
        "plt.xlabel('Epoch')\n",
        "plt.ylabel('Loss')\n",
        "plt.show()"
      ],
      "execution_count": null,
      "outputs": [
        {
          "output_type": "display_data",
          "data": {
            "image/png": "[encoded data removed]",
            "text/plain": [
              "<Figure size 432x288 with 1 Axes>"
            ]
          },
          "metadata": {
            "tags": [],
            "needs_background": "light"
          }
        }
      ]
    },
    {
      "cell_type": "markdown",
      "metadata": {
        "id": "mt8rKNNpn-XW"
      },
      "source": [
        "### Image reconstruction\n",
        "\n",
        "We define a new function, `test_image_reconstruction`, that adds noise to images never given as inputs to the network, and performs the image reconstructions for just one batch.\n",
        "\n",
        "It also visualizes 5 noisy images and their reconstructions."
      ]
    },
    {
      "cell_type": "code",
      "metadata": {
        "id": "qIoCClPP0WH5"
      },
      "source": [
        "def test_image_reconstruction(model, test_loader):\n",
        "    MSE_noisy_denoised = []\n",
        "    MSE_orig_denoised = []\n",
        "\n",
        "    for batch in test_loader:\n",
        "        img, _ = batch\n",
        "\n",
        "        # add noise to the images\n",
        "        img_noisy = img + SD_TRAINING * torch.randn(img.shape)\n",
        "        img_noisy = np.clip(img_noisy, 0., 1.)\n",
        "        img_noisy = img_noisy.to(device)\n",
        "\n",
        "        # denoise the image with the autoencoder\n",
        "        outputs = model(img_noisy)\n",
        "\n",
        "        # calculate the MSE between noisy image and denoised image\n",
        "        MSE_noisy_denoised.append(error(img_noisy, outputs))\n",
        "\n",
        "        # copy the tensor to host memory\n",
        "        outputs = outputs.view(outputs.size(0), 1, 28, 28).cpu().data\n",
        "        \n",
        "        # calculate the MSE between original image and denoised image\n",
        "        MSE_orig_denoised.append(error(img, outputs))\n",
        "        break\n",
        "\n",
        "    # visualize original, noisy, and reconstructed images\n",
        "    img_noisy = img_noisy.cpu().data\n",
        "    figure = plt.figure(figsize=(16, 11))\n",
        "    cols, rows = 5, 3\n",
        "\n",
        "    for i in range(cols):\n",
        "        # original images\n",
        "        figure.add_subplot(rows, cols, i+1)\n",
        "        img_noisy_show = img[i, :, :, :].permute(1, 2, 0)\n",
        "        plt.title('image no. {}, original'.format(i+1))\n",
        "        plt.imshow(torch.squeeze(img[i]), cmap=\"gray_r\")\n",
        "\n",
        "        # noisy images\n",
        "        figure.add_subplot(rows, cols, i+cols+1)\n",
        "        img_noisy_show = img_noisy[i, :, :, :].permute(1, 2, 0)\n",
        "        plt.title('image no. {}, noisy\\n gaussian noise var: {}'.format(i+1,\n",
        "                                                                        VARIANCE_TRAINING))\n",
        "        plt.imshow(torch.squeeze(img_noisy_show), cmap=\"gray_r\")\n",
        "\n",
        "        # denoised images\n",
        "        figure.add_subplot(rows, cols, i+2*cols+1)\n",
        "        outputs_show = outputs[i, :, :, :].permute(1, 2, 0)\n",
        "        plt.title('image no. {}, reconstructed'.format(i+1))\n",
        "        plt.imshow(torch.squeeze(outputs_show), cmap=\"gray_r\")\n",
        "    plt.show()\n",
        "\n",
        "    # calculate and print the test MSE\n",
        "    mean_MSE_noisy_denoised = sum(MSE_noisy_denoised) / len(MSE_noisy_denoised)\n",
        "    print(\"MSE between noisy images and denoised images: {:.4f}\".format(mean_MSE_noisy_denoised))\n",
        "    mean_MSE_orig_denoised = sum(MSE_orig_denoised) / len(MSE_orig_denoised)\n",
        "    print(\"MSE between original images and denoised images: {:.4f}\".format(mean_MSE_orig_denoised))"
      ],
      "execution_count": null,
      "outputs": []
    },
    {
      "cell_type": "markdown",
      "metadata": {
        "id": "QE2ihr0Jo2Z8"
      },
      "source": [
        "Let's call the test function, print the images, and save the trained network to file."
      ]
    },
    {
      "cell_type": "code",
      "metadata": {
        "id": "fDsryy3Fb_XV",
        "colab": {
          "base_uri": "https://localhost:8080/",
          "height": 674
        },
        "outputId": "7a0b6b57-0bb0-4048-bac4-992ae737e649"
      },
      "source": [
        "test_image_reconstruction(model, test_loader)\n",
        "\n",
        "## TODO\n",
        "# save the trained network\n",
        "torch.save(model, \"saved_FashionMNIST_CNN.pt\")"
      ],
      "execution_count": null,
      "outputs": [
        {
          "output_type": "display_data",
          "data": {
            "image/png": "[encoded data removed]",
            "text/plain": [
              "<Figure size 1152x792 with 15 Axes>"
            ]
          },
          "metadata": {
            "tags": [],
            "needs_background": "light"
          }
        },
        {
          "output_type": "stream",
          "text": [
            "MSE between noisy images and denoised images: 0.0200\n",
            "MSE between original images and denoised images: 0.6050\n"
          ],
          "name": "stdout"
        }
      ]
    },
    {
      "cell_type": "markdown",
      "metadata": {
        "id": "aVVKoTewRPTA"
      },
      "source": [
        "## 6. Results, observations and conclusions\n",
        "\n"
      ]
    },
    {
      "cell_type": "markdown",
      "metadata": {
        "id": "Nf02aJ3tEYyU"
      },
      "source": [
        "# Part III: Code"
      ]
    },
    {
      "cell_type": "code",
      "metadata": {
        "id": "OJYAx2qG-FKc"
      },
      "source": [
        "##FULL CODE\n",
        "\n",
        "import numpy as np\n",
        "import math\n",
        "import matplotlib.pyplot as plt\n",
        "\n",
        "import torch\n",
        "import torch.nn as nn\n",
        "\n",
        "import torchvision\n",
        "import torchvision.transforms as transforms\n",
        "\n",
        "NUM_EPOCHS = 8\n",
        "LEARNING_RATE = 0.001\n",
        "BATCH_SIZE = 16\n",
        "VARIANCE_TRAINING = 0.001\n",
        "SD_TRAINING = math.sqrt(VARIANCE_TRAINING)\n",
        "\n",
        "\n",
        "device = torch.device(\"cuda:0\" if torch.cuda.is_available() else \"cpu\")\n",
        "print(device)\n",
        "\n",
        "transform = transforms.Compose([\n",
        "    transforms.ToTensor(), # converting image pixel data to tensors\n",
        "    transforms.Normalize((0.5,), (0.5,)), # normalizing the tensor image\n",
        "])\n",
        "\n",
        "\n",
        "train_set = torchvision.datasets.FashionMNIST(\n",
        "    root=\"./data\",\n",
        "    download=True,\n",
        "    train = True,\n",
        "    transform = transform\n",
        ")\n",
        "\n",
        "train_loader = torch.utils.data.DataLoader(\n",
        "    train_set,\n",
        "    batch_size = BATCH_SIZE,\n",
        "    shuffle = True\n",
        ")\n",
        "\n",
        "test_set = torchvision.datasets.FashionMNIST(\n",
        "    root=\"./data\",\n",
        "    download=True,\n",
        "    train = False,\n",
        "    transform = transform\n",
        ")\n",
        "\n",
        "test_loader = torch.utils.data.DataLoader(\n",
        "    test_set,\n",
        "    batch_size = BATCH_SIZE,\n",
        "    shuffle = True\n",
        ")\n",
        "\n",
        "\n",
        "print(\"Training set size:\", len(train_set))\n",
        "print(\"Test set size:\", len(test_set)) \n",
        "\n",
        "labels_map = {\n",
        "    0: \"T-Shirt\",\n",
        "    1: \"Trouser\",\n",
        "    2: \"Pullover\",\n",
        "    3: \"Dress\",\n",
        "    4: \"Coat\",\n",
        "    5: \"Sandal\",\n",
        "    6: \"Shirt\",\n",
        "    7: \"Sneaker\",\n",
        "    8: \"Bag\",\n",
        "    9: \"Ankle Boot\",\n",
        "}\n",
        "\n",
        "figure = plt.figure(figsize=(8, 8))\n",
        "cols, rows = 5, 4\n",
        "for i in range(1, cols * rows + 1):\n",
        "    sample_idx = torch.randint(len(train_set), size=(1,)).item()\n",
        "    img, label = train_set[sample_idx]\n",
        "    figure.add_subplot(rows, cols, i)\n",
        "    plt.title(labels_map[label])\n",
        "    plt.imshow(img.squeeze(), cmap=\"gray_r\")\n",
        "plt.show()\n",
        "\n",
        "class Autoencoder(nn.Module):\n",
        "\n",
        "    def __init__(self):\n",
        "        super(Autoencoder, self).__init__()\n",
        "       \n",
        "\n",
        "        self.enc1 = nn.Conv2d(1, 64, kernel_size=3, padding=1)\n",
        "        self.enc2 = nn.Conv2d(64, 32, kernel_size=3, padding=1)\n",
        "        self.enc3 = nn.Conv2d(32, 16, kernel_size=3, padding=1)\n",
        "        self.enc4 = nn.Conv2d(16, 8, kernel_size=3, padding=1)\n",
        "        self.pool = nn.maxPool2d(2, 2)\n",
        "\n",
        "        self.dec1 = nn.ConvTranspose2d(8, 8, kernel_size=3, stride=2)\n",
        "        self.dec2 = nn.ConvTranspose2d(8, 16, kernel_size=3, stride=2)\n",
        "        self.dec3 = nn.ConvTranspose2d(16, 32, kernel_size=3, stride=2)\n",
        "        self.dec4 = nn.ConvTranspose2d(32, 64, kernel_size=3, stride=2)\n",
        "        self.out = nn.Conv2d(64, 1, kernel_size=3, padding=1)\n",
        "\n",
        "    def forward(self, x):\n",
        "        \n",
        "        # Encoding\n",
        "        \n",
        "        #out = torch.nn.functional.relu(self.enc1(x))\n",
        "        #out = self.pool(out)\n",
        "        # ...\n",
        "        #out = self.pool(out) # latent space representation\n",
        "\n",
        "        x = nn.fuctional.relu(self.enc1(x))\n",
        "        x = self.pool(x)\n",
        "        x = nn.fuctional.relu(self.enc2(x))\n",
        "        X = self.pool(x)\n",
        "        x = nn.fuctional.relu(self.enc3(x))\n",
        "        X = self.pool(x)\n",
        "        x = nn.fuctional.relu(self.enc4(x))\n",
        "        X = self.pool(x)\n",
        "        \n",
        "        # Decoding\n",
        "        \n",
        "        x = nn.fuctional.relu(self.dec1(x))\n",
        "        x = nn.fuctional.relu(self.dec2(x))\n",
        "        x = nn.fuctional.relu(self.dec3(x))\n",
        "        x = nn.fuctional.relu(self.dec4(x))\n",
        "        x = torch.sigmoid(self.out(x))\n",
        "\n",
        "\n",
        "        return out\n",
        "\n",
        "# create a model\n",
        "model = Autoencoder()\n",
        "print(model)\n",
        "\n",
        "error = nn.MSELoss()\n",
        "optimizer = torch.optim.Adam(model.parameters(), lr=LEARNING_RATE)\n",
        "\n",
        "# the training function\n",
        "def train(model, train_loader, NUM_EPOCHS):\n",
        "    train_loss = []\n",
        "\n",
        "    for epoch in range(NUM_EPOCHS):\n",
        "        running_loss = 0.0\n",
        "        for data in train_loader:\n",
        "            img, _ = data # we do not need the image labels\n",
        "\n",
        "            \n",
        "            img_noisy = img + SD_TRAINING * torch.randn(img.shape)\n",
        "            img_noisy = np.clip(img_noisy, 0., 1.)\n",
        "            img_noisy = img_noisy.to(device)\n",
        "\n",
        "           \n",
        "            optimizer.zero_grad()\n",
        "           \n",
        "            outputs = model(img_noisy)\n",
        "            loss = error(outputs, img_noisy)\n",
        "           \n",
        "            loss.backward()\n",
        "          \n",
        "            optimizer.step()\n",
        "            \n",
        "            running_loss += loss.item()\n",
        "\n",
        "        loss = running_loss / len(train_loader)\n",
        "        train_loss.append(loss)\n",
        "        print('Epoch {} of {}, Train Loss: {:.4f}'.format(epoch+1, NUM_EPOCHS, loss))\n",
        "\n",
        "    return train_loss\n",
        "\n",
        "    model.to(device)\n",
        "\n",
        "train_loss = train(model, train_loader, NUM_EPOCHS)\n",
        "\n",
        "plt.figure()\n",
        "plt.plot('Train Loss)\n",
        "plt.title('Curve')\n",
        "plt.xlabel('Epoch')\n",
        "plt.ylabel('Loss')\n",
        "plt.show()\n",
        "\n",
        "def test_image_reconstruction(model, test_loader):\n",
        "    MSE_noisy_denoised = []\n",
        "    MSE_orig_denoised = []\n",
        "\n",
        "    for batch in test_loader:\n",
        "        img, _ = batch\n",
        "\n",
        "        # add noise to the images\n",
        "        img_noisy = img + SD_TRAINING * torch.randn(img.shape)\n",
        "        img_noisy = np.clip(img_noisy, 0., 1.)\n",
        "        img_noisy = img_noisy.to(device)\n",
        "\n",
        "        # denoise the image with the autoencoder\n",
        "        outputs = model(img_noisy)\n",
        "\n",
        "        # calculate the MSE between noisy image and denoised image\n",
        "        MSE_noisy_denoised.append(error(img_noisy, outputs))\n",
        "\n",
        "        # copy the tensor to host memory\n",
        "        outputs = outputs.view(outputs.size(0), 1, 28, 28).cpu().data\n",
        "        \n",
        "        # calculate the MSE between original image and denoised image\n",
        "        MSE_orig_denoised.append(error(img, outputs))\n",
        "        break\n",
        "\n",
        "    # visualize original, noisy, and reconstructed images\n",
        "    img_noisy = img_noisy.cpu().data\n",
        "    figure = plt.figure(figsize=(16, 11))\n",
        "    cols, rows = 5, 3\n",
        "\n",
        "    for i in range(cols):\n",
        "        # original images\n",
        "        figure.add_subplot(rows, cols, i+1)\n",
        "        img_noisy_show = img[i, :, :, :].permute(1, 2, 0)\n",
        "        plt.title('image no. {}, original'.format(i+1))\n",
        "        plt.imshow(torch.squeeze(img[i]), cmap=\"gray_r\")\n",
        "\n",
        "        # noisy images\n",
        "        figure.add_subplot(rows, cols, i+cols+1)\n",
        "        img_noisy_show = img_noisy[i, :, :, :].permute(1, 2, 0)\n",
        "        plt.title('image no. {}, noisy\\n gaussian noise var: {}'.format(i+1,\n",
        "                                                                        VARIANCE_TRAINING))\n",
        "        plt.imshow(torch.squeeze(img_noisy_show), cmap=\"gray_r\")\n",
        "\n",
        "        # denoised images\n",
        "        figure.add_subplot(rows, cols, i+2*cols+1)\n",
        "        outputs_show = outputs[i, :, :, :].permute(1, 2, 0)\n",
        "        plt.title('image no. {}, reconstructed'.format(i+1))\n",
        "        plt.imshow(torch.squeeze(outputs_show), cmap=\"gray_r\")\n",
        "    \n",
        "    plt.show()\n",
        "\n",
        "    # calculate and print the test MSE\n",
        "    mean_MSE_noisy_denoised = sum(MSE_noisy_denoised) / len(MSE_noisy_denoised)\n",
        "    print(\"MSE between noisy images and denoised images: {:.4f}\".format(mean_MSE_noisy_denoised))\n",
        "    mean_MSE_orig_denoised = sum(MSE_orig_denoised) / len(MSE_orig_denoised)\n",
        "    print(\"MSE between original images and denoised images: {:.4f}\".format(mean_MSE_orig_denoised))\n",
        "\n",
        "    test_image_reconstruction(model, test_loader)\n",
        "\n",
        "\n",
        "\n",
        "\n",
        "\n",
        "\n",
        "\n",
        "\n",
        "\n"
      ],
      "execution_count": null,
      "outputs": []
    },
    {
      "cell_type": "markdown",
      "metadata": {
        "id": "lT_bRigkEjpE"
      },
      "source": [
        "# Part IV: Traditional Filtering"
      ]
    },
    {
      "cell_type": "markdown",
      "metadata": {
        "id": "b-NFmOQJEnHZ"
      },
      "source": [
        "## 8. Goals\n",
        "\n",
        "The aim of this part of the project is to implement a \"traditional\" convolution to denoise images. We will add some gaussian noise to some samples from Fashion MNIST, define and apply a Gaussian filter to them, and compare this method with the results from the Convolutional Neural Network."
      ]
    },
    {
      "cell_type": "markdown",
      "metadata": {
        "id": "310LoOYDErBj"
      },
      "source": [
        "## 9. Noise adding\n",
        "\n"
      ]
    },
    {
      "cell_type": "markdown",
      "metadata": {
        "id": "NKOS9npsJEKu"
      },
      "source": [
        "### Add gaussian noise to 5 images\n",
        "\n",
        "We  randomly choose 5 images from the Fashion MNIST dataset and add gaussian noise to them.\n"
      ]
    },
    {
      "cell_type": "code",
      "metadata": {
        "id": "bJjdYKr8GMVq"
      },
      "source": [
        "VARIANCE_NOISE = 0.001\n",
        "SD_NOISE = math.sqrt(VARIANCE_NOISE) \n",
        "orig_imgs = []\n",
        "noisy_imgs = []\n",
        "\n",
        "for i in range(5):\n",
        "    # generate a random index\n",
        "    sample_idx = torch.randint(len(train_set), size=(1,)).item()\n",
        "    # get an image from the training set\n",
        "    img, _ = train_set[sample_idx]\n",
        "    orig_imgs.append(img)\n",
        "\n",
        "    ## TODO\n",
        "    # 1. add gaussian noise to the image\n",
        "    img_noisy = img + SD_NOISE* torch.randn(img.shape)\n",
        "\n",
        "    # 2. clip the pixel values into the range [0,1] \n",
        "    img_noisy = np.clip(img_noisy, 0., 1.)\n",
        "    \n",
        "    noisy_imgs.append(img_noisy)"
      ],
      "execution_count": null,
      "outputs": []
    },
    {
      "cell_type": "markdown",
      "metadata": {
        "id": "GJGDSXkIJFat"
      },
      "source": [
        "### Visualize original and noisy images"
      ]
    },
    {
      "cell_type": "markdown",
      "metadata": {
        "id": "dZdrft_gLSmd"
      },
      "source": [
        "We then visualize the previously selected samples in a 2x5 grid: on the top row there are the original images, and on the bottom row the noisy images."
      ]
    },
    {
      "cell_type": "code",
      "metadata": {
        "id": "_2qkBZROLSyK",
        "colab": {
          "base_uri": "https://localhost:8080/",
          "height": 425
        },
        "outputId": "7adba57c-329a-48e8-8a4f-1a55a78a87d5"
      },
      "source": [
        "# visualize original and noisy images\n",
        "figure = plt.figure(figsize=(16, 7))\n",
        "cols, rows = 5, 2\n",
        "for i in range(cols):\n",
        "    # original images\n",
        "    figure.add_subplot(rows, cols, i+1)\n",
        "    plt.title('image no. {}, original'.format(i+1))\n",
        "    plt.imshow(torch.squeeze(orig_imgs[i]), cmap=\"gray_r\")\n",
        "\n",
        "    # noisy images\n",
        "    figure.add_subplot(rows, cols, i+cols+1)\n",
        "    plt.title('image no. {}, noisy\\n gaussian noise var. {}'.format(i+1,\n",
        "                                                             VARIANCE_NOISE)) \n",
        "    plt.imshow(torch.squeeze(noisy_imgs[i]), cmap=\"gray_r\")\n",
        "plt.show()"
      ],
      "execution_count": null,
      "outputs": [
        {
          "output_type": "display_data",
          "data": {
            "image/png": "[encoded data removed]",
            "text/plain": [
              "<Figure size 1152x504 with 10 Axes>"
            ]
          },
          "metadata": {
            "tags": [],
            "needs_background": "light"
          }
        }
      ]
    },
    {
      "cell_type": "markdown",
      "metadata": {
        "id": "7RhF8iPaHO0y"
      },
      "source": [
        "## 10. Noise removing"
      ]
    },
    {
      "cell_type": "markdown",
      "metadata": {
        "id": "Gdgacd1vJR6U"
      },
      "source": [
        "### Define and add a gaussian filter\n",
        "\n",
        "We define the mask of a 3x3 gaussian filter with the `torchgeometry` package."
      ]
    },
    {
      "cell_type": "code",
      "metadata": {
        "id": "0AA1MEj4OW-j",
        "colab": {
          "base_uri": "https://localhost:8080/"
        },
        "outputId": "f14119c2-a0fe-4c4e-9f19-2bf07e70ee3a"
      },
      "source": [
        "!pip install torchgeometry"
      ],
      "execution_count": null,
      "outputs": [
        {
          "output_type": "stream",
          "text": [
            "Collecting torchgeometry\n",
            "\u001b[?25l  Downloading https://files.pythonhosted.org/packages/a6/d6/3f6820c0589bc3876080c59b58a3bad11af746a7b46f364b1cde7972bd72/torchgeometry-0.1.2-py2.py3-none-any.whl (42kB)\n",
            "\r\u001b[K     |███████▋                        | 10kB 15.4MB/s eta 0:00:01\r\u001b[K     |███████████████▎                | 20kB 20.2MB/s eta 0:00:01\r\u001b[K     |███████████████████████         | 30kB 18.9MB/s eta 0:00:01\r\u001b[K     |██████████████████████████████▋ | 40kB 15.9MB/s eta 0:00:01\r\u001b[K     |████████████████████████████████| 51kB 4.3MB/s \n",
            "\u001b[?25hRequirement already satisfied: torch>=1.0.0 in /usr/local/lib/python3.7/dist-packages (from torchgeometry) (1.8.1+cu101)\n",
            "Requirement already satisfied: numpy in /usr/local/lib/python3.7/dist-packages (from torch>=1.0.0->torchgeometry) (1.19.5)\n",
            "Requirement already satisfied: typing-extensions in /usr/local/lib/python3.7/dist-packages (from torch>=1.0.0->torchgeometry) (3.7.4.3)\n",
            "Installing collected packages: torchgeometry\n",
            "Successfully installed torchgeometry-0.1.2\n"
          ],
          "name": "stdout"
        }
      ]
    },
    {
      "cell_type": "code",
      "metadata": {
        "id": "GdWyZQz_LztX",
        "colab": {
          "base_uri": "https://localhost:8080/"
        },
        "outputId": "c2d3c325-802e-4750-d7e0-413c12ab1d54"
      },
      "source": [
        "import torchgeometry as tgm\n",
        "\n",
        "VARIANCE_FILTER = 0.5\n",
        "SD_FILTER = math.sqrt(VARIANCE_FILTER)\n",
        "\n",
        "# get gaussian filter matrix coefficients\n",
        "gaussian_filter_mask = tgm.image.get_gaussian_kernel2d((3, 3), (SD_FILTER, SD_FILTER))\n",
        "# add 2 dimensions to the filter for Batch and Channel\n",
        "gaussian_filter_mask = gaussian_filter_mask.unsqueeze(0).unsqueeze(0)\n",
        "\n",
        "# check if the filter shape is correct and visualize it\n",
        "print(gaussian_filter_mask.shape) # [B, C, H, W]\n",
        "print(gaussian_filter_mask)"
      ],
      "execution_count": null,
      "outputs": [
        {
          "output_type": "stream",
          "text": [
            "torch.Size([1, 1, 3, 3])\n",
            "tensor([[[[0.0449, 0.1221, 0.0449],\n",
            "          [0.1221, 0.3319, 0.1221],\n",
            "          [0.0449, 0.1221, 0.0449]]]])\n"
          ],
          "name": "stdout"
        }
      ]
    },
    {
      "cell_type": "markdown",
      "metadata": {
        "id": "uUMxrbHecHjI"
      },
      "source": [
        "Let's apply the gaussian filter to the 5 images."
      ]
    },
    {
      "cell_type": "code",
      "metadata": {
        "id": "H-vjq9ZlcIKd"
      },
      "source": [
        "denoised_imgs = []\n",
        "\n",
        "for i in range(5):\n",
        "    # apply the layer\n",
        "    out_img = nn.functional.conv2d(noisy_imgs[i].unsqueeze(0),\n",
        "                                  gaussian_filter_mask, \n",
        "                                  stride=1, \n",
        "                                  padding=1)\n",
        "    denoised_imgs.append(out_img)"
      ],
      "execution_count": null,
      "outputs": []
    },
    {
      "cell_type": "markdown",
      "metadata": {
        "id": "WVX7JTimJV-l"
      },
      "source": [
        "### Visualize original, noisy, and filtered images\n",
        "\n",
        "We visualize all the images in a 3x5 grid: on the top row there are the original images, on the second row the noisy images, and on the bottom row the denoised images."
      ]
    },
    {
      "cell_type": "code",
      "metadata": {
        "id": "y4vyZBJmeLsL",
        "colab": {
          "base_uri": "https://localhost:8080/",
          "height": 640
        },
        "outputId": "97bf87e5-f203-4e1f-8c14-8edefccfba2c"
      },
      "source": [
        "## TODO\n",
        "# Visualize original, noisy, and denoised images in a 3x5 grid.\n",
        "# Remember to specify, when needed, in the title of each image the  \n",
        "# variance of the noise and the variance of the gaussian filter.\n",
        "\n",
        "figure = plt.figure(figsize=(16, 11))\n",
        "cols, rows = 5, 3\n",
        "for i in range(cols):\n",
        "    # original images\n",
        "    figure.add_subplot(rows, cols, i+1)\n",
        "    plt.title('image no. {}, original'.format(i+1))\n",
        "    plt.imshow(torch.squeeze(orig_imgs[i]), cmap=\"gray_r\")\n",
        "\n",
        "    # noisy images\n",
        "    figure.add_subplot(rows, cols, i+cols+1)\n",
        "    plt.title('image no. {}, noisy\\n gaussian noise var. {}'.format(i+1,\n",
        "                                                             VARIANCE_NOISE)) \n",
        "    plt.imshow(torch.squeeze(noisy_imgs[i]), cmap=\"gray_r\")\n",
        "\n",
        "\n",
        "    # denoised images\n",
        "    figure.add_subplot(rows, cols, i+2*cols+1)\n",
        "    plt.title('image no. {}, denoised\\n gaussian filter var.{}'.format(i+1, \n",
        "                                                              VARIANCE_FILTER) )\n",
        "    plt.imshow(torch.squeeze(denoised_imgs[i]), cmap=\"gray_r\")\n",
        "plt.show()"
      ],
      "execution_count": null,
      "outputs": [
        {
          "output_type": "display_data",
          "data": {
            "image/png": "[encoded data removed]",
            "text/plain": [
              "<Figure size 1152x792 with 15 Axes>"
            ]
          },
          "metadata": {
            "tags": [],
            "needs_background": "light"
          }
        }
      ]
    },
    {
      "cell_type": "markdown",
      "metadata": {
        "id": "eaGtxwJKHYTo"
      },
      "source": [
        "## 11. Test and performance evaluations\n",
        "\n",
        "We compute the MSE between the noisy images and the reconstructed images, and also between the original images and the reconstructed images."
      ]
    },
    {
      "cell_type": "code",
      "metadata": {
        "id": "ZQUxy4QVeGrw",
        "colab": {
          "base_uri": "https://localhost:8080/"
        },
        "outputId": "d45daeb1-8f25-4e6e-c23d-f16d7029109d"
      },
      "source": [
        "def MSE_between_images(imgs_list1, imgs_list2):\n",
        "    MSE_list = []\n",
        "    i = 1\n",
        "    # iterate through two lists of images\n",
        "    for a, b in zip(imgs_list1, imgs_list2):\n",
        "        error = nn.MSELoss()\n",
        "        ## TODO\n",
        "        # calculate the MSE\n",
        "        MSE_error = error(a, b)#...\n",
        "        MSE_list.append(MSE_error)\n",
        "        print(\"MSE image {}: {:.4f}\".format(i, MSE_error))\n",
        "        i+=1\n",
        "    ## TODO\n",
        "    # calculate the average MSE\n",
        "    mean_MSE = sum(MSE_list) / len(MSE_list)\n",
        "    print(\"The average MSE is {:.4f}\".format(mean_MSE))\n",
        "\n",
        "denoised_imgs_3d = [denoised.squeeze(0) for denoised in denoised_imgs]\n",
        "print(\"MSE between noisy images and denoised images\")\n",
        "MSE_between_images(noisy_imgs, denoised_imgs_3d)\n",
        "\n",
        "print(\"\\nMSE between original images and denoised images\")\n",
        "MSE_between_images(orig_imgs, denoised_imgs_3d)"
      ],
      "execution_count": null,
      "outputs": [
        {
          "output_type": "stream",
          "text": [
            "MSE between noisy images and denoised images\n",
            "MSE image 1: 0.0075\n",
            "MSE image 2: 0.0112\n",
            "MSE image 3: 0.0089\n",
            "MSE image 4: 0.0099\n",
            "MSE image 5: 0.0076\n",
            "The average MSE is 0.0090\n",
            "\n",
            "MSE between original images and denoised images\n",
            "MSE image 1: 0.8464\n",
            "MSE image 2: 0.4594\n",
            "MSE image 3: 0.5331\n",
            "MSE image 4: 0.5018\n",
            "MSE image 5: 0.7080\n",
            "The average MSE is 0.6098\n"
          ],
          "name": "stdout"
        }
      ]
    },
    {
      "cell_type": "markdown",
      "metadata": {
        "id": "4l9mZL0nEuGP"
      },
      "source": [
        "## 12. Results, observations and conclusions\n"
      ]
    },
    {
      "cell_type": "markdown",
      "metadata": {
        "id": "bXxW8PDJExBI"
      },
      "source": [
        "## 13. Comparison between NN and traditional technique\n",
        "\n",
        "We implemented both a Denoising Convolutional Autoencoder Network for image reconstruction and a \"traditional\" convolution to denoise images, and analyzed the results.\n",
        "\n",
        "To summarize the outcomes of these two techniques, we can visualize in a single figure an original image, the same image with added noise, and the denoised figure both with the neural network and with the gaussian filter."
      ]
    },
    {
      "cell_type": "code",
      "metadata": {
        "id": "pwmM7sSqlh52"
      },
      "source": [
        "def compare_denoising_techniques(model, train_set, std_dev, filter_mask):\n",
        "    # select a random image from the training set\n",
        "    idx = torch.randint(len(train_set), size=(1,)).item()\n",
        "    original, _ = train_set[idx]\n",
        "\n",
        "    # add gaussian noise\n",
        "    noisy_img = original + torch.randn(original.shape) * std_dev\n",
        "    noisy_img = np.clip(noisy_img, 0., 1.)\n",
        "\n",
        "    # denoise the image with the nn\n",
        "    noisy_img_nn = noisy_img.to(device)\n",
        "    denoised_nn = model(noisy_img_nn.unsqueeze(0))\n",
        "    denoised_nn = denoised_nn.view(denoised_nn.size(0), 1, 28, 28).cpu().data\n",
        "\n",
        "    # denoise the image with the gaussian filter\n",
        "    denoised_classic = nn.functional.conv2d(noisy_img.unsqueeze(0),\n",
        "                                            filter_mask, \n",
        "                                            stride=1, \n",
        "                                            padding=1)\n",
        "\n",
        "    # visualize the 4 images\n",
        "    figure = plt.figure(figsize=(12, 8))\n",
        "    # original\n",
        "    figure.add_subplot(1, 4, 1)\n",
        "    plt.title(\"original\")\n",
        "    plt.imshow(torch.squeeze(original), cmap=\"gray_r\")\n",
        "    # noisy\n",
        "    figure.add_subplot(1, 4, 2)\n",
        "    plt.title(\"noisy\")\n",
        "    plt.imshow(torch.squeeze(noisy_img), cmap=\"gray_r\")\n",
        "    # denoised with nn\n",
        "    figure.add_subplot(1, 4, 3)\n",
        "    plt.title(\"denoised NN\")\n",
        "    plt.imshow(torch.squeeze(denoised_nn), cmap=\"gray_r\")\n",
        "    # denoised with gaussian filter\n",
        "    figure.add_subplot(1, 4, 4)\n",
        "    plt.title(\"denoised classic\")\n",
        "    plt.imshow(torch.squeeze(denoised_classic), cmap=\"gray_r\")\n",
        "\n",
        "    plt.show()"
      ],
      "execution_count": null,
      "outputs": []
    },
    {
      "cell_type": "code",
      "metadata": {
        "id": "FkTvKommblsg",
        "colab": {
          "base_uri": "https://localhost:8080/",
          "height": 593
        },
        "outputId": "91e4e0dc-918a-420b-9e18-ed0761f587b2"
      },
      "source": [
        "N = 3 #how many different samples to visualize\n",
        "for i in range(N):\n",
        "    compare_denoising_techniques(model, train_set, SD_NOISE, gaussian_filter_mask)"
      ],
      "execution_count": null,
      "outputs": [
        {
          "output_type": "display_data",
          "data": {
            "image/png": "[encoded data removed]",
            "text/plain": [
              "<Figure size 864x576 with 4 Axes>"
            ]
          },
          "metadata": {
            "tags": [],
            "needs_background": "light"
          }
        },
        {
          "output_type": "display_data",
          "data": {
            "image/png": "[encoded data removed]",
            "text/plain": [
              "<Figure size 864x576 with 4 Axes>"
            ]
          },
          "metadata": {
            "tags": [],
            "needs_background": "light"
          }
        },
        {
          "output_type": "display_data",
          "data": {
            "image/png": "[encoded data removed]",
            "text/plain": [
              "<Figure size 864x576 with 4 Axes>"
            ]
          },
          "metadata": {
            "tags": [],
            "needs_background": "light"
          }
        }
      ]
    },
    {
      "cell_type": "markdown",
      "metadata": {
        "id": "QLHLMlxvEzqw"
      },
      "source": [
        "# Part V: Code"
      ]
    },
    {
      "cell_type": "markdown",
      "metadata": {
        "id": "ja3SINIUkwaO"
      },
      "source": [
        "**Conclusions**\n",
        "\n",
        "As a result of the project I found out how to denoise images but I ran into errors which were not easy to fix for me as I did not know how to write a code for denoising but after this project, I understood the basics of denoising."
      ]
    },
    {
      "cell_type": "markdown",
      "metadata": {
        "id": "VUxMn5CME0r7"
      },
      "source": [
        "## 14. Full code (part IV)"
      ]
    },
    {
      "cell_type": "code",
      "metadata": {
        "id": "Go9TunMiZrZn"
      },
      "source": [
        "VARIANCE_NOISE = 0.04\n",
        "SD_NOISE = math.sqrt(VARIANCE_NOISE) \n",
        "orig_imgs = []\n",
        "noisy_imgs = []\n",
        " \n",
        "for i in range(5):\n",
        "    # generate a random index\n",
        "    sample_idx = torch.randint(len(train_set), size=(1,)).item()\n",
        "    # get an image from the training set\n",
        "    img, _ = train_set[sample_idx]\n",
        "    orig_imgs.append(img)\n",
        " \n",
        "    #  add gaussian noise to the image\n",
        "    img_noisy = img + SD_NOISE* torch.randn(img.shape)\n",
        "    #  clip the pixel values into the range [0,1] \n",
        "    img_noisy = np.clip(img_noisy, 0., 1.)\n",
        " \n",
        "    noisy_imgs.append(img_noisy) \n",
        "\n",
        " \n",
        "figure = plt.figure(figsize=(16, 7))\n",
        "cols, rows = 5, 2\n",
        "for i in range(cols):\n",
        "    # original images from train_set\n",
        "    figure.add_subplot(rows, cols, i+1)\n",
        "    plt.title('image no. {}, original'.format(i+1))\n",
        "    plt.imshow(torch.squeeze(orig_imgs[i]), cmap=\"gray_r\")\n",
        " \n",
        "    # noisy images\n",
        "    figure.add_subplot(rows, cols, i+cols+1)\n",
        "    plt.title('image no. {}, noisy\\n gaussian noise var. {}'.format(i+1,\n",
        "                                                             VARIANCE_NOISE)) \n",
        "    plt.imshow(torch.squeeze(noisy_imgs[i]), cmap=\"gray_r\")\n",
        "plt.show()\n",
        " \n",
        "\n",
        " \n",
        "!pip install torchgeometry\n",
        " \n",
        "import torchgeometry as tgm\n",
        " \n",
        "VARIANCE_FILTER = 0.04\n",
        "SD_FILTER = math.sqrt(VARIANCE_FILTER)\n",
        " \n",
        "# get gaussian filter matrix coefficients\n",
        "gaussian_filter_mask = tgm.image.get_gaussian_kernel2d((3, 3), (SD_FILTER, SD_FILTER))\n",
        "# add 2 dimensions to the filter for Batch and Channel\n",
        "gaussian_filter_mask = gaussian_filter_mask.unsqueeze(0).unsqueeze(0)\n",
        " \n",
        "# check if the filter shape is correct and visualize it\n",
        "print(gaussian_filter_mask.shape) # [B, C, H, W]\n",
        "print(gaussian_filter_mask)\n",
        " \n",
        " \n",
        "figure = plt.figure(figsize=(16, 11))\n",
        "cols, rows = 5, 3\n",
        "for i in range(cols):\n",
        "    # original images\n",
        "    figure.add_subplot(rows, cols, i+1)\n",
        "    plt.title('image no. {}, original'.format(i+1))\n",
        "    plt.imshow(torch.squeeze(orig_imgs[i]), cmap=\"gray_r\")\n",
        " \n",
        "    # noisy images\n",
        "    figure.add_subplot(rows, cols, i+cols+1)\n",
        "    plt.title('image no. {}, noisy\\n gaussian noise var. {}'.format(i+1,\n",
        "                                                             VARIANCE_NOISE)) \n",
        "    plt.imshow(torch.squeeze(noisy_imgs[i]), cmap=\"gray_r\")\n",
        " \n",
        " \n",
        "    # denoised images\n",
        "    figure.add_subplot(rows, cols, i+2*cols+1)\n",
        "    plt.title('image no. {}, denoised\\n gaussian filter var.{}'.format(i+1, \n",
        "                                                              VARIANCE_FILTER) )\n",
        "    plt.imshow(torch.squeeze(denoised_imgs[i]), cmap=\"gray_r\")\n",
        "    plt.show()\n",
        " \n",
        " \n",
        " \n",
        "def MSE_between_images(imgs_list1, imgs_list2):\n",
        "    MSE_list = []\n",
        "    i = 1\n",
        "    # iterate through two lists of images\n",
        "    for a, b in zip(imgs_list1, imgs_list2):\n",
        "        error = nn.MSELoss()\n",
        " \n",
        "        # calculate the MSE\n",
        "        MSE_error = error(a, b)\n",
        "        MSE_list.append(MSE_error)\n",
        "        print(\"MSE image {}: {:.4f}\".format(i, MSE_error))\n",
        "        i+=1\n",
        "    ## TODO\n",
        "    # calculate the average MSE\n",
        "    mean_MSE = sum(MSE_list) / len(MSE_list)\n",
        "    print(\"The average MSE is {:.4f}\".format(mean_MSE))\n",
        " \n",
        "denoised_imgs_3d = [denoised.squeeze(0) for denoised in denoised_imgs]\n",
        "print(\"MSE between noisy images and denoised images\")\n",
        "MSE_between_images(noisy_imgs, denoised_imgs_3d)\n",
        " \n",
        "print(\"\\nMSE between original images and denoised images\")\n",
        "MSE_between_images(orig_imgs, denoised_imgs_3d)\n",
        " \n",
        " \n",
        " \n",
        " \n",
        "def compare_denoising_techniques(model, train_set, std_dev, filter_mask):\n",
        "    # select a random image from the training set\n",
        "    idx = torch.randint(len(train_set), size=(1,)).item()\n",
        "    original, _ = train_set[idx]\n",
        " \n",
        "    # add gaussian noise\n",
        "    noisy_img = original + torch.randn(original.shape) * std_dev\n",
        "    noisy_img = np.clip(noisy_img, 0., 1.)\n",
        " \n",
        "    # denoise the image with the nn\n",
        "    noisy_img_nn = noisy_img.to(device)\n",
        "    denoised_nn = model(noisy_img_nn.unsqueeze(0))\n",
        "    denoised_nn = denoised_nn.view(denoised_nn.size(0), 1, 28, 28).cpu().data\n",
        " \n",
        "    # denoise the image with the gaussian filter\n",
        "    denoised_classic = nn.functional.conv2d(noisy_img.unsqueeze(0),\n",
        "                                            filter_mask, \n",
        "                                            stride=1, \n",
        "                                            padding=1)\n",
        " \n",
        "    # visualize the 4 images\n",
        "    figure = plt.figure(figsize=(12, 8))\n",
        "    # original\n",
        "    figure.add_subplot(1, 4, 1)\n",
        "    plt.title(\"original\")\n",
        "    plt.imshow(torch.squeeze(original), cmap=\"gray_r\")\n",
        "    # noisy\n",
        "    figure.add_subplot(1, 4, 2)\n",
        "    plt.title(\"noisy\")\n",
        "    plt.imshow(torch.squeeze(noisy_img), cmap=\"gray_r\")\n",
        "    # denoised with nn\n",
        "    figure.add_subplot(1, 4, 3)\n",
        "    plt.title(\"denoised NN\")\n",
        "    plt.imshow(torch.squeeze(denoised_nn), cmap=\"gray_r\")\n",
        "    # denoised with gaussian filter\n",
        "    figure.add_subplot(1, 4, 4)\n",
        "    plt.title(\"denoised classic\")\n",
        "    plt.imshow(torch.squeeze(denoised_classic), cmap=\"gray_r\")\n",
        " \n",
        "    plt.show()\n",
        "\n",
        "    N = 3 #how many different samples to visualize\n",
        "for i in range(N):\n",
        "    compare_denoising_techniques(model, train_set, SD_NOISE, gaussian_filter_mask)"
      ],
      "execution_count": null,
      "outputs": []
    },
    {
      "cell_type": "markdown",
      "metadata": {
        "id": "5U1-e6ZXa6h5"
      },
      "source": [
        "---\n",
        "## Bibliography\n",
        "\n",
        "1. [Netron](https://netron.app/) - Visualizer for neural network, deep learning, and machine learning models.\n",
        "2. [Autoencoder Neural Network: Application to Image Denoising](https://debuggercafe.com/autoencoder-neural-network-application-to-image-denoising/)"
      ]
    }
  ]
}